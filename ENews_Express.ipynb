{
  "nbformat": 4,
  "nbformat_minor": 5,
  "metadata": {
    "kernelspec": {
      "display_name": "Python 3",
      "language": "python",
      "name": "python3"
    },
    "language_info": {
      "codemirror_mode": {
        "name": "ipython",
        "version": 3
      },
      "file_extension": ".py",
      "mimetype": "text/x-python",
      "name": "python",
      "nbconvert_exporter": "python",
      "pygments_lexer": "ipython3",
      "version": "3.8.8"
    },
    "colab": {
      "provenance": [],
      "collapsed_sections": [
        "a6a3d218",
        "6970dd99",
        "9d75cfa2",
        "68f3b2c9",
        "fad2de2f",
        "27906576",
        "e5fdf0c8",
        "56b3dafd",
        "c7ee4907",
        "3f58c9a7",
        "5fed2eac",
        "f5c5258d",
        "359b12f8",
        "d9affc84",
        "353e9d24",
        "d49bfa2d",
        "8d585a90",
        "3acbc947"
      ]
    }
  },
  "cells": [
    {
      "cell_type": "markdown",
      "metadata": {
        "id": "6yDxo9u0d9Na"
      },
      "source": [
        "# Project Business Statistics: E-news Express\n",
        "\n",
        "**Marks: 60**"
      ],
      "id": "6yDxo9u0d9Na"
    },
    {
      "cell_type": "markdown",
      "metadata": {
        "id": "SrLd-ICEmPSD"
      },
      "source": [
        "## Define Problem Statement and Objectives"
      ],
      "id": "SrLd-ICEmPSD"
    },
    {
      "cell_type": "markdown",
      "metadata": {
        "id": "9Vt1PLLqmXNn"
      },
      "source": [
        "Problem Statement:\n",
        "\n",
        "E-News portal, an online news portal aims to expand its business by acquiring more subscribers by adding new features to their portal. The company has to analyze the user interests based on their website visit and drive for better engagement.\n",
        "\n",
        "Objective:\n",
        "\n",
        "The design team has created a new landing page. As a Data Scientist, the objective is to find the effectiveness of a new page and whether it is gathering more subscribers. The team conducted an experiment with a randomly selected sample of 100 users and divided them into two equal groups. One group has been given the existing landing page(control) and the other group has been given the new landing page(treatment group). Data was gathered from both the groups. The Data Science team has to perform a statistical analysis to determine the effectiveness of the new landing page gathering more subscribers at the significance level of 5%:\n",
        "\n",
        "1. Do the users spend more time on the new landing page than on the existing landing page?\n",
        "2. Is the conversion rate for new page greater than the conversion rate for the existing page?\n",
        "3. Does the converted status depend on the preferred language?\n",
        "4. Is the time spent on the new page the same for different language users?\n",
        "\n",
        "Data Dictionary:\n",
        "\n",
        "1. user_id : unique user id for people visiting the website\n",
        "2. group : which group the user belongs to. The control group or the treatment group.\n",
        "3. landing_page : is the landing page new or the existing one.\n",
        "4. time_spent_on_the_page : the time spent by the user on the landing page.\n",
        "5. converted : whether the user gets converted to a subscriber or not.\n",
        "6. language_preferred : language chosen by the user on the website for viewing the page."
      ],
      "id": "9Vt1PLLqmXNn"
    },
    {
      "cell_type": "markdown",
      "metadata": {
        "id": "a6a3d218"
      },
      "source": [
        "## Import all the necessary libraries"
      ],
      "id": "a6a3d218"
    },
    {
      "cell_type": "code",
      "metadata": {
        "id": "658c5dec",
        "colab": {
          "base_uri": "https://localhost:8080/"
        },
        "outputId": "1daaedb9-5228-4672-a03c-f3010d58236c"
      },
      "source": [
        "import pandas as pd\n",
        "import numpy as np\n",
        "import seaborn as sns\n",
        "from matplotlib import pyplot as plt\n",
        "import scipy.stats as stats\n",
        "\n",
        "import nbconvert\n",
        "\n",
        "from google.colab import drive\n",
        "drive.mount('/content/drive')"
      ],
      "id": "658c5dec",
      "execution_count": null,
      "outputs": [
        {
          "output_type": "stream",
          "name": "stdout",
          "text": [
            "Drive already mounted at /content/drive; to attempt to forcibly remount, call drive.mount(\"/content/drive\", force_remount=True).\n"
          ]
        }
      ]
    },
    {
      "cell_type": "markdown",
      "metadata": {
        "id": "6970dd99"
      },
      "source": [
        "## Reading the Data into a DataFrame"
      ],
      "id": "6970dd99"
    },
    {
      "cell_type": "code",
      "metadata": {
        "id": "d3b95640"
      },
      "source": [
        "data = pd.read_csv('/content/drive/My Drive/Colab Notebooks/abtest.csv')"
      ],
      "id": "d3b95640",
      "execution_count": null,
      "outputs": []
    },
    {
      "cell_type": "code",
      "source": [
        "df = data.copy()"
      ],
      "metadata": {
        "id": "0tqFvptO_Bpq"
      },
      "id": "0tqFvptO_Bpq",
      "execution_count": null,
      "outputs": []
    },
    {
      "cell_type": "markdown",
      "metadata": {
        "id": "9d75cfa2"
      },
      "source": [
        "## Explore the dataset and extract insights using Exploratory Data Analysis"
      ],
      "id": "9d75cfa2"
    },
    {
      "cell_type": "markdown",
      "metadata": {
        "id": "27201534"
      },
      "source": [
        "- Data Overview\n",
        "  - Viewing the first and last few rows of the dataset\n",
        "  - Checking the shape of the dataset\n",
        "  - Getting the statistical summary for the variables\n",
        "- Check for missing values\n",
        "- Check for duplicates"
      ],
      "id": "27201534"
    },
    {
      "cell_type": "code",
      "metadata": {
        "id": "e1ad11d4",
        "colab": {
          "base_uri": "https://localhost:8080/",
          "height": 206
        },
        "outputId": "edda8c48-397f-4d72-d7d7-d7979fbdf654"
      },
      "source": [
        "df.head()"
      ],
      "id": "e1ad11d4",
      "execution_count": null,
      "outputs": [
        {
          "output_type": "execute_result",
          "data": {
            "text/plain": [
              "   user_id      group landing_page  time_spent_on_the_page converted  \\\n",
              "0   546592    control          old                    3.48        no   \n",
              "1   546468  treatment          new                    7.13       yes   \n",
              "2   546462  treatment          new                    4.40        no   \n",
              "3   546567    control          old                    3.02        no   \n",
              "4   546459  treatment          new                    4.75       yes   \n",
              "\n",
              "  language_preferred  \n",
              "0            Spanish  \n",
              "1            English  \n",
              "2            Spanish  \n",
              "3             French  \n",
              "4            Spanish  "
            ],
            "text/html": [
              "\n",
              "  <div id=\"df-3d63a3c9-1888-436d-9964-532c0d3d298e\" class=\"colab-df-container\">\n",
              "    <div>\n",
              "<style scoped>\n",
              "    .dataframe tbody tr th:only-of-type {\n",
              "        vertical-align: middle;\n",
              "    }\n",
              "\n",
              "    .dataframe tbody tr th {\n",
              "        vertical-align: top;\n",
              "    }\n",
              "\n",
              "    .dataframe thead th {\n",
              "        text-align: right;\n",
              "    }\n",
              "</style>\n",
              "<table border=\"1\" class=\"dataframe\">\n",
              "  <thead>\n",
              "    <tr style=\"text-align: right;\">\n",
              "      <th></th>\n",
              "      <th>user_id</th>\n",
              "      <th>group</th>\n",
              "      <th>landing_page</th>\n",
              "      <th>time_spent_on_the_page</th>\n",
              "      <th>converted</th>\n",
              "      <th>language_preferred</th>\n",
              "    </tr>\n",
              "  </thead>\n",
              "  <tbody>\n",
              "    <tr>\n",
              "      <th>0</th>\n",
              "      <td>546592</td>\n",
              "      <td>control</td>\n",
              "      <td>old</td>\n",
              "      <td>3.48</td>\n",
              "      <td>no</td>\n",
              "      <td>Spanish</td>\n",
              "    </tr>\n",
              "    <tr>\n",
              "      <th>1</th>\n",
              "      <td>546468</td>\n",
              "      <td>treatment</td>\n",
              "      <td>new</td>\n",
              "      <td>7.13</td>\n",
              "      <td>yes</td>\n",
              "      <td>English</td>\n",
              "    </tr>\n",
              "    <tr>\n",
              "      <th>2</th>\n",
              "      <td>546462</td>\n",
              "      <td>treatment</td>\n",
              "      <td>new</td>\n",
              "      <td>4.40</td>\n",
              "      <td>no</td>\n",
              "      <td>Spanish</td>\n",
              "    </tr>\n",
              "    <tr>\n",
              "      <th>3</th>\n",
              "      <td>546567</td>\n",
              "      <td>control</td>\n",
              "      <td>old</td>\n",
              "      <td>3.02</td>\n",
              "      <td>no</td>\n",
              "      <td>French</td>\n",
              "    </tr>\n",
              "    <tr>\n",
              "      <th>4</th>\n",
              "      <td>546459</td>\n",
              "      <td>treatment</td>\n",
              "      <td>new</td>\n",
              "      <td>4.75</td>\n",
              "      <td>yes</td>\n",
              "      <td>Spanish</td>\n",
              "    </tr>\n",
              "  </tbody>\n",
              "</table>\n",
              "</div>\n",
              "    <div class=\"colab-df-buttons\">\n",
              "\n",
              "  <div class=\"colab-df-container\">\n",
              "    <button class=\"colab-df-convert\" onclick=\"convertToInteractive('df-3d63a3c9-1888-436d-9964-532c0d3d298e')\"\n",
              "            title=\"Convert this dataframe to an interactive table.\"\n",
              "            style=\"display:none;\">\n",
              "\n",
              "  <svg xmlns=\"http://www.w3.org/2000/svg\" height=\"24px\" viewBox=\"0 -960 960 960\">\n",
              "    <path d=\"M120-120v-720h720v720H120Zm60-500h600v-160H180v160Zm220 220h160v-160H400v160Zm0 220h160v-160H400v160ZM180-400h160v-160H180v160Zm440 0h160v-160H620v160ZM180-180h160v-160H180v160Zm440 0h160v-160H620v160Z\"/>\n",
              "  </svg>\n",
              "    </button>\n",
              "\n",
              "  <style>\n",
              "    .colab-df-container {\n",
              "      display:flex;\n",
              "      gap: 12px;\n",
              "    }\n",
              "\n",
              "    .colab-df-convert {\n",
              "      background-color: #E8F0FE;\n",
              "      border: none;\n",
              "      border-radius: 50%;\n",
              "      cursor: pointer;\n",
              "      display: none;\n",
              "      fill: #1967D2;\n",
              "      height: 32px;\n",
              "      padding: 0 0 0 0;\n",
              "      width: 32px;\n",
              "    }\n",
              "\n",
              "    .colab-df-convert:hover {\n",
              "      background-color: #E2EBFA;\n",
              "      box-shadow: 0px 1px 2px rgba(60, 64, 67, 0.3), 0px 1px 3px 1px rgba(60, 64, 67, 0.15);\n",
              "      fill: #174EA6;\n",
              "    }\n",
              "\n",
              "    .colab-df-buttons div {\n",
              "      margin-bottom: 4px;\n",
              "    }\n",
              "\n",
              "    [theme=dark] .colab-df-convert {\n",
              "      background-color: #3B4455;\n",
              "      fill: #D2E3FC;\n",
              "    }\n",
              "\n",
              "    [theme=dark] .colab-df-convert:hover {\n",
              "      background-color: #434B5C;\n",
              "      box-shadow: 0px 1px 3px 1px rgba(0, 0, 0, 0.15);\n",
              "      filter: drop-shadow(0px 1px 2px rgba(0, 0, 0, 0.3));\n",
              "      fill: #FFFFFF;\n",
              "    }\n",
              "  </style>\n",
              "\n",
              "    <script>\n",
              "      const buttonEl =\n",
              "        document.querySelector('#df-3d63a3c9-1888-436d-9964-532c0d3d298e button.colab-df-convert');\n",
              "      buttonEl.style.display =\n",
              "        google.colab.kernel.accessAllowed ? 'block' : 'none';\n",
              "\n",
              "      async function convertToInteractive(key) {\n",
              "        const element = document.querySelector('#df-3d63a3c9-1888-436d-9964-532c0d3d298e');\n",
              "        const dataTable =\n",
              "          await google.colab.kernel.invokeFunction('convertToInteractive',\n",
              "                                                    [key], {});\n",
              "        if (!dataTable) return;\n",
              "\n",
              "        const docLinkHtml = 'Like what you see? Visit the ' +\n",
              "          '<a target=\"_blank\" href=https://colab.research.google.com/notebooks/data_table.ipynb>data table notebook</a>'\n",
              "          + ' to learn more about interactive tables.';\n",
              "        element.innerHTML = '';\n",
              "        dataTable['output_type'] = 'display_data';\n",
              "        await google.colab.output.renderOutput(dataTable, element);\n",
              "        const docLink = document.createElement('div');\n",
              "        docLink.innerHTML = docLinkHtml;\n",
              "        element.appendChild(docLink);\n",
              "      }\n",
              "    </script>\n",
              "  </div>\n",
              "\n",
              "\n",
              "<div id=\"df-58d3d21d-b766-4be1-8061-68974c68df0f\">\n",
              "  <button class=\"colab-df-quickchart\" onclick=\"quickchart('df-58d3d21d-b766-4be1-8061-68974c68df0f')\"\n",
              "            title=\"Suggest charts\"\n",
              "            style=\"display:none;\">\n",
              "\n",
              "<svg xmlns=\"http://www.w3.org/2000/svg\" height=\"24px\"viewBox=\"0 0 24 24\"\n",
              "     width=\"24px\">\n",
              "    <g>\n",
              "        <path d=\"M19 3H5c-1.1 0-2 .9-2 2v14c0 1.1.9 2 2 2h14c1.1 0 2-.9 2-2V5c0-1.1-.9-2-2-2zM9 17H7v-7h2v7zm4 0h-2V7h2v10zm4 0h-2v-4h2v4z\"/>\n",
              "    </g>\n",
              "</svg>\n",
              "  </button>\n",
              "\n",
              "<style>\n",
              "  .colab-df-quickchart {\n",
              "      --bg-color: #E8F0FE;\n",
              "      --fill-color: #1967D2;\n",
              "      --hover-bg-color: #E2EBFA;\n",
              "      --hover-fill-color: #174EA6;\n",
              "      --disabled-fill-color: #AAA;\n",
              "      --disabled-bg-color: #DDD;\n",
              "  }\n",
              "\n",
              "  [theme=dark] .colab-df-quickchart {\n",
              "      --bg-color: #3B4455;\n",
              "      --fill-color: #D2E3FC;\n",
              "      --hover-bg-color: #434B5C;\n",
              "      --hover-fill-color: #FFFFFF;\n",
              "      --disabled-bg-color: #3B4455;\n",
              "      --disabled-fill-color: #666;\n",
              "  }\n",
              "\n",
              "  .colab-df-quickchart {\n",
              "    background-color: var(--bg-color);\n",
              "    border: none;\n",
              "    border-radius: 50%;\n",
              "    cursor: pointer;\n",
              "    display: none;\n",
              "    fill: var(--fill-color);\n",
              "    height: 32px;\n",
              "    padding: 0;\n",
              "    width: 32px;\n",
              "  }\n",
              "\n",
              "  .colab-df-quickchart:hover {\n",
              "    background-color: var(--hover-bg-color);\n",
              "    box-shadow: 0 1px 2px rgba(60, 64, 67, 0.3), 0 1px 3px 1px rgba(60, 64, 67, 0.15);\n",
              "    fill: var(--button-hover-fill-color);\n",
              "  }\n",
              "\n",
              "  .colab-df-quickchart-complete:disabled,\n",
              "  .colab-df-quickchart-complete:disabled:hover {\n",
              "    background-color: var(--disabled-bg-color);\n",
              "    fill: var(--disabled-fill-color);\n",
              "    box-shadow: none;\n",
              "  }\n",
              "\n",
              "  .colab-df-spinner {\n",
              "    border: 2px solid var(--fill-color);\n",
              "    border-color: transparent;\n",
              "    border-bottom-color: var(--fill-color);\n",
              "    animation:\n",
              "      spin 1s steps(1) infinite;\n",
              "  }\n",
              "\n",
              "  @keyframes spin {\n",
              "    0% {\n",
              "      border-color: transparent;\n",
              "      border-bottom-color: var(--fill-color);\n",
              "      border-left-color: var(--fill-color);\n",
              "    }\n",
              "    20% {\n",
              "      border-color: transparent;\n",
              "      border-left-color: var(--fill-color);\n",
              "      border-top-color: var(--fill-color);\n",
              "    }\n",
              "    30% {\n",
              "      border-color: transparent;\n",
              "      border-left-color: var(--fill-color);\n",
              "      border-top-color: var(--fill-color);\n",
              "      border-right-color: var(--fill-color);\n",
              "    }\n",
              "    40% {\n",
              "      border-color: transparent;\n",
              "      border-right-color: var(--fill-color);\n",
              "      border-top-color: var(--fill-color);\n",
              "    }\n",
              "    60% {\n",
              "      border-color: transparent;\n",
              "      border-right-color: var(--fill-color);\n",
              "    }\n",
              "    80% {\n",
              "      border-color: transparent;\n",
              "      border-right-color: var(--fill-color);\n",
              "      border-bottom-color: var(--fill-color);\n",
              "    }\n",
              "    90% {\n",
              "      border-color: transparent;\n",
              "      border-bottom-color: var(--fill-color);\n",
              "    }\n",
              "  }\n",
              "</style>\n",
              "\n",
              "  <script>\n",
              "    async function quickchart(key) {\n",
              "      const quickchartButtonEl =\n",
              "        document.querySelector('#' + key + ' button');\n",
              "      quickchartButtonEl.disabled = true;  // To prevent multiple clicks.\n",
              "      quickchartButtonEl.classList.add('colab-df-spinner');\n",
              "      try {\n",
              "        const charts = await google.colab.kernel.invokeFunction(\n",
              "            'suggestCharts', [key], {});\n",
              "      } catch (error) {\n",
              "        console.error('Error during call to suggestCharts:', error);\n",
              "      }\n",
              "      quickchartButtonEl.classList.remove('colab-df-spinner');\n",
              "      quickchartButtonEl.classList.add('colab-df-quickchart-complete');\n",
              "    }\n",
              "    (() => {\n",
              "      let quickchartButtonEl =\n",
              "        document.querySelector('#df-58d3d21d-b766-4be1-8061-68974c68df0f button');\n",
              "      quickchartButtonEl.style.display =\n",
              "        google.colab.kernel.accessAllowed ? 'block' : 'none';\n",
              "    })();\n",
              "  </script>\n",
              "</div>\n",
              "    </div>\n",
              "  </div>\n"
            ]
          },
          "metadata": {},
          "execution_count": 4
        }
      ]
    },
    {
      "cell_type": "code",
      "source": [
        "df.tail()"
      ],
      "metadata": {
        "colab": {
          "base_uri": "https://localhost:8080/",
          "height": 206
        },
        "id": "dWnlLRqQ_SRa",
        "outputId": "6c854d63-7c87-4c98-b189-638718dfa5d8"
      },
      "id": "dWnlLRqQ_SRa",
      "execution_count": null,
      "outputs": [
        {
          "output_type": "execute_result",
          "data": {
            "text/plain": [
              "    user_id      group landing_page  time_spent_on_the_page converted  \\\n",
              "95   546446  treatment          new                    5.15        no   \n",
              "96   546544    control          old                    6.52       yes   \n",
              "97   546472  treatment          new                    7.07       yes   \n",
              "98   546481  treatment          new                    6.20       yes   \n",
              "99   546483  treatment          new                    5.86       yes   \n",
              "\n",
              "   language_preferred  \n",
              "95            Spanish  \n",
              "96            English  \n",
              "97            Spanish  \n",
              "98            Spanish  \n",
              "99            English  "
            ],
            "text/html": [
              "\n",
              "  <div id=\"df-cc6ef7d1-1548-4fa6-8b10-ea4dfba83ca1\" class=\"colab-df-container\">\n",
              "    <div>\n",
              "<style scoped>\n",
              "    .dataframe tbody tr th:only-of-type {\n",
              "        vertical-align: middle;\n",
              "    }\n",
              "\n",
              "    .dataframe tbody tr th {\n",
              "        vertical-align: top;\n",
              "    }\n",
              "\n",
              "    .dataframe thead th {\n",
              "        text-align: right;\n",
              "    }\n",
              "</style>\n",
              "<table border=\"1\" class=\"dataframe\">\n",
              "  <thead>\n",
              "    <tr style=\"text-align: right;\">\n",
              "      <th></th>\n",
              "      <th>user_id</th>\n",
              "      <th>group</th>\n",
              "      <th>landing_page</th>\n",
              "      <th>time_spent_on_the_page</th>\n",
              "      <th>converted</th>\n",
              "      <th>language_preferred</th>\n",
              "    </tr>\n",
              "  </thead>\n",
              "  <tbody>\n",
              "    <tr>\n",
              "      <th>95</th>\n",
              "      <td>546446</td>\n",
              "      <td>treatment</td>\n",
              "      <td>new</td>\n",
              "      <td>5.15</td>\n",
              "      <td>no</td>\n",
              "      <td>Spanish</td>\n",
              "    </tr>\n",
              "    <tr>\n",
              "      <th>96</th>\n",
              "      <td>546544</td>\n",
              "      <td>control</td>\n",
              "      <td>old</td>\n",
              "      <td>6.52</td>\n",
              "      <td>yes</td>\n",
              "      <td>English</td>\n",
              "    </tr>\n",
              "    <tr>\n",
              "      <th>97</th>\n",
              "      <td>546472</td>\n",
              "      <td>treatment</td>\n",
              "      <td>new</td>\n",
              "      <td>7.07</td>\n",
              "      <td>yes</td>\n",
              "      <td>Spanish</td>\n",
              "    </tr>\n",
              "    <tr>\n",
              "      <th>98</th>\n",
              "      <td>546481</td>\n",
              "      <td>treatment</td>\n",
              "      <td>new</td>\n",
              "      <td>6.20</td>\n",
              "      <td>yes</td>\n",
              "      <td>Spanish</td>\n",
              "    </tr>\n",
              "    <tr>\n",
              "      <th>99</th>\n",
              "      <td>546483</td>\n",
              "      <td>treatment</td>\n",
              "      <td>new</td>\n",
              "      <td>5.86</td>\n",
              "      <td>yes</td>\n",
              "      <td>English</td>\n",
              "    </tr>\n",
              "  </tbody>\n",
              "</table>\n",
              "</div>\n",
              "    <div class=\"colab-df-buttons\">\n",
              "\n",
              "  <div class=\"colab-df-container\">\n",
              "    <button class=\"colab-df-convert\" onclick=\"convertToInteractive('df-cc6ef7d1-1548-4fa6-8b10-ea4dfba83ca1')\"\n",
              "            title=\"Convert this dataframe to an interactive table.\"\n",
              "            style=\"display:none;\">\n",
              "\n",
              "  <svg xmlns=\"http://www.w3.org/2000/svg\" height=\"24px\" viewBox=\"0 -960 960 960\">\n",
              "    <path d=\"M120-120v-720h720v720H120Zm60-500h600v-160H180v160Zm220 220h160v-160H400v160Zm0 220h160v-160H400v160ZM180-400h160v-160H180v160Zm440 0h160v-160H620v160ZM180-180h160v-160H180v160Zm440 0h160v-160H620v160Z\"/>\n",
              "  </svg>\n",
              "    </button>\n",
              "\n",
              "  <style>\n",
              "    .colab-df-container {\n",
              "      display:flex;\n",
              "      gap: 12px;\n",
              "    }\n",
              "\n",
              "    .colab-df-convert {\n",
              "      background-color: #E8F0FE;\n",
              "      border: none;\n",
              "      border-radius: 50%;\n",
              "      cursor: pointer;\n",
              "      display: none;\n",
              "      fill: #1967D2;\n",
              "      height: 32px;\n",
              "      padding: 0 0 0 0;\n",
              "      width: 32px;\n",
              "    }\n",
              "\n",
              "    .colab-df-convert:hover {\n",
              "      background-color: #E2EBFA;\n",
              "      box-shadow: 0px 1px 2px rgba(60, 64, 67, 0.3), 0px 1px 3px 1px rgba(60, 64, 67, 0.15);\n",
              "      fill: #174EA6;\n",
              "    }\n",
              "\n",
              "    .colab-df-buttons div {\n",
              "      margin-bottom: 4px;\n",
              "    }\n",
              "\n",
              "    [theme=dark] .colab-df-convert {\n",
              "      background-color: #3B4455;\n",
              "      fill: #D2E3FC;\n",
              "    }\n",
              "\n",
              "    [theme=dark] .colab-df-convert:hover {\n",
              "      background-color: #434B5C;\n",
              "      box-shadow: 0px 1px 3px 1px rgba(0, 0, 0, 0.15);\n",
              "      filter: drop-shadow(0px 1px 2px rgba(0, 0, 0, 0.3));\n",
              "      fill: #FFFFFF;\n",
              "    }\n",
              "  </style>\n",
              "\n",
              "    <script>\n",
              "      const buttonEl =\n",
              "        document.querySelector('#df-cc6ef7d1-1548-4fa6-8b10-ea4dfba83ca1 button.colab-df-convert');\n",
              "      buttonEl.style.display =\n",
              "        google.colab.kernel.accessAllowed ? 'block' : 'none';\n",
              "\n",
              "      async function convertToInteractive(key) {\n",
              "        const element = document.querySelector('#df-cc6ef7d1-1548-4fa6-8b10-ea4dfba83ca1');\n",
              "        const dataTable =\n",
              "          await google.colab.kernel.invokeFunction('convertToInteractive',\n",
              "                                                    [key], {});\n",
              "        if (!dataTable) return;\n",
              "\n",
              "        const docLinkHtml = 'Like what you see? Visit the ' +\n",
              "          '<a target=\"_blank\" href=https://colab.research.google.com/notebooks/data_table.ipynb>data table notebook</a>'\n",
              "          + ' to learn more about interactive tables.';\n",
              "        element.innerHTML = '';\n",
              "        dataTable['output_type'] = 'display_data';\n",
              "        await google.colab.output.renderOutput(dataTable, element);\n",
              "        const docLink = document.createElement('div');\n",
              "        docLink.innerHTML = docLinkHtml;\n",
              "        element.appendChild(docLink);\n",
              "      }\n",
              "    </script>\n",
              "  </div>\n",
              "\n",
              "\n",
              "<div id=\"df-02681823-4522-4aa7-b239-b1b53c9afcc5\">\n",
              "  <button class=\"colab-df-quickchart\" onclick=\"quickchart('df-02681823-4522-4aa7-b239-b1b53c9afcc5')\"\n",
              "            title=\"Suggest charts\"\n",
              "            style=\"display:none;\">\n",
              "\n",
              "<svg xmlns=\"http://www.w3.org/2000/svg\" height=\"24px\"viewBox=\"0 0 24 24\"\n",
              "     width=\"24px\">\n",
              "    <g>\n",
              "        <path d=\"M19 3H5c-1.1 0-2 .9-2 2v14c0 1.1.9 2 2 2h14c1.1 0 2-.9 2-2V5c0-1.1-.9-2-2-2zM9 17H7v-7h2v7zm4 0h-2V7h2v10zm4 0h-2v-4h2v4z\"/>\n",
              "    </g>\n",
              "</svg>\n",
              "  </button>\n",
              "\n",
              "<style>\n",
              "  .colab-df-quickchart {\n",
              "      --bg-color: #E8F0FE;\n",
              "      --fill-color: #1967D2;\n",
              "      --hover-bg-color: #E2EBFA;\n",
              "      --hover-fill-color: #174EA6;\n",
              "      --disabled-fill-color: #AAA;\n",
              "      --disabled-bg-color: #DDD;\n",
              "  }\n",
              "\n",
              "  [theme=dark] .colab-df-quickchart {\n",
              "      --bg-color: #3B4455;\n",
              "      --fill-color: #D2E3FC;\n",
              "      --hover-bg-color: #434B5C;\n",
              "      --hover-fill-color: #FFFFFF;\n",
              "      --disabled-bg-color: #3B4455;\n",
              "      --disabled-fill-color: #666;\n",
              "  }\n",
              "\n",
              "  .colab-df-quickchart {\n",
              "    background-color: var(--bg-color);\n",
              "    border: none;\n",
              "    border-radius: 50%;\n",
              "    cursor: pointer;\n",
              "    display: none;\n",
              "    fill: var(--fill-color);\n",
              "    height: 32px;\n",
              "    padding: 0;\n",
              "    width: 32px;\n",
              "  }\n",
              "\n",
              "  .colab-df-quickchart:hover {\n",
              "    background-color: var(--hover-bg-color);\n",
              "    box-shadow: 0 1px 2px rgba(60, 64, 67, 0.3), 0 1px 3px 1px rgba(60, 64, 67, 0.15);\n",
              "    fill: var(--button-hover-fill-color);\n",
              "  }\n",
              "\n",
              "  .colab-df-quickchart-complete:disabled,\n",
              "  .colab-df-quickchart-complete:disabled:hover {\n",
              "    background-color: var(--disabled-bg-color);\n",
              "    fill: var(--disabled-fill-color);\n",
              "    box-shadow: none;\n",
              "  }\n",
              "\n",
              "  .colab-df-spinner {\n",
              "    border: 2px solid var(--fill-color);\n",
              "    border-color: transparent;\n",
              "    border-bottom-color: var(--fill-color);\n",
              "    animation:\n",
              "      spin 1s steps(1) infinite;\n",
              "  }\n",
              "\n",
              "  @keyframes spin {\n",
              "    0% {\n",
              "      border-color: transparent;\n",
              "      border-bottom-color: var(--fill-color);\n",
              "      border-left-color: var(--fill-color);\n",
              "    }\n",
              "    20% {\n",
              "      border-color: transparent;\n",
              "      border-left-color: var(--fill-color);\n",
              "      border-top-color: var(--fill-color);\n",
              "    }\n",
              "    30% {\n",
              "      border-color: transparent;\n",
              "      border-left-color: var(--fill-color);\n",
              "      border-top-color: var(--fill-color);\n",
              "      border-right-color: var(--fill-color);\n",
              "    }\n",
              "    40% {\n",
              "      border-color: transparent;\n",
              "      border-right-color: var(--fill-color);\n",
              "      border-top-color: var(--fill-color);\n",
              "    }\n",
              "    60% {\n",
              "      border-color: transparent;\n",
              "      border-right-color: var(--fill-color);\n",
              "    }\n",
              "    80% {\n",
              "      border-color: transparent;\n",
              "      border-right-color: var(--fill-color);\n",
              "      border-bottom-color: var(--fill-color);\n",
              "    }\n",
              "    90% {\n",
              "      border-color: transparent;\n",
              "      border-bottom-color: var(--fill-color);\n",
              "    }\n",
              "  }\n",
              "</style>\n",
              "\n",
              "  <script>\n",
              "    async function quickchart(key) {\n",
              "      const quickchartButtonEl =\n",
              "        document.querySelector('#' + key + ' button');\n",
              "      quickchartButtonEl.disabled = true;  // To prevent multiple clicks.\n",
              "      quickchartButtonEl.classList.add('colab-df-spinner');\n",
              "      try {\n",
              "        const charts = await google.colab.kernel.invokeFunction(\n",
              "            'suggestCharts', [key], {});\n",
              "      } catch (error) {\n",
              "        console.error('Error during call to suggestCharts:', error);\n",
              "      }\n",
              "      quickchartButtonEl.classList.remove('colab-df-spinner');\n",
              "      quickchartButtonEl.classList.add('colab-df-quickchart-complete');\n",
              "    }\n",
              "    (() => {\n",
              "      let quickchartButtonEl =\n",
              "        document.querySelector('#df-02681823-4522-4aa7-b239-b1b53c9afcc5 button');\n",
              "      quickchartButtonEl.style.display =\n",
              "        google.colab.kernel.accessAllowed ? 'block' : 'none';\n",
              "    })();\n",
              "  </script>\n",
              "</div>\n",
              "    </div>\n",
              "  </div>\n"
            ]
          },
          "metadata": {},
          "execution_count": 5
        }
      ]
    },
    {
      "cell_type": "code",
      "source": [
        "df.shape"
      ],
      "metadata": {
        "colab": {
          "base_uri": "https://localhost:8080/"
        },
        "id": "3vKrXXus_Vr4",
        "outputId": "97e2a891-56ea-4686-f720-9b58f6c1a975"
      },
      "id": "3vKrXXus_Vr4",
      "execution_count": null,
      "outputs": [
        {
          "output_type": "execute_result",
          "data": {
            "text/plain": [
              "(100, 6)"
            ]
          },
          "metadata": {},
          "execution_count": 6
        }
      ]
    },
    {
      "cell_type": "markdown",
      "source": [
        "The dataset contains 100 rows and 6 columns."
      ],
      "metadata": {
        "id": "SuKbFWVK_bVI"
      },
      "id": "SuKbFWVK_bVI"
    },
    {
      "cell_type": "code",
      "source": [
        "df.info()"
      ],
      "metadata": {
        "colab": {
          "base_uri": "https://localhost:8080/"
        },
        "id": "Ky-OyGBo_WdS",
        "outputId": "f87cde5d-7e49-4f78-d11f-dc4ec15914fd"
      },
      "id": "Ky-OyGBo_WdS",
      "execution_count": null,
      "outputs": [
        {
          "output_type": "stream",
          "name": "stdout",
          "text": [
            "<class 'pandas.core.frame.DataFrame'>\n",
            "RangeIndex: 100 entries, 0 to 99\n",
            "Data columns (total 6 columns):\n",
            " #   Column                  Non-Null Count  Dtype  \n",
            "---  ------                  --------------  -----  \n",
            " 0   user_id                 100 non-null    int64  \n",
            " 1   group                   100 non-null    object \n",
            " 2   landing_page            100 non-null    object \n",
            " 3   time_spent_on_the_page  100 non-null    float64\n",
            " 4   converted               100 non-null    object \n",
            " 5   language_preferred      100 non-null    object \n",
            "dtypes: float64(1), int64(1), object(4)\n",
            "memory usage: 4.8+ KB\n"
          ]
        }
      ]
    },
    {
      "cell_type": "markdown",
      "source": [
        "There are 2 numerical columns and 4 categorical columns."
      ],
      "metadata": {
        "id": "vi6EmMQZ_wBb"
      },
      "id": "vi6EmMQZ_wBb"
    },
    {
      "cell_type": "code",
      "source": [
        "df.describe(include = 'all').T"
      ],
      "metadata": {
        "colab": {
          "base_uri": "https://localhost:8080/",
          "height": 238
        },
        "id": "NkFEAVtd_5O3",
        "outputId": "2d249735-1920-44ad-d009-070d633e647d"
      },
      "id": "NkFEAVtd_5O3",
      "execution_count": null,
      "outputs": [
        {
          "output_type": "execute_result",
          "data": {
            "text/plain": [
              "                        count unique      top freq      mean        std  \\\n",
              "user_id                 100.0    NaN      NaN  NaN  546517.0  52.295779   \n",
              "group                     100      2  control   50       NaN        NaN   \n",
              "landing_page              100      2      old   50       NaN        NaN   \n",
              "time_spent_on_the_page  100.0    NaN      NaN  NaN    5.3778   2.378166   \n",
              "converted                 100      2      yes   54       NaN        NaN   \n",
              "language_preferred        100      3  Spanish   34       NaN        NaN   \n",
              "\n",
              "                             min        25%       50%        75%       max  \n",
              "user_id                 546443.0  546467.75  546492.5  546567.25  546592.0  \n",
              "group                        NaN        NaN       NaN        NaN       NaN  \n",
              "landing_page                 NaN        NaN       NaN        NaN       NaN  \n",
              "time_spent_on_the_page      0.19       3.88     5.415     7.0225     10.71  \n",
              "converted                    NaN        NaN       NaN        NaN       NaN  \n",
              "language_preferred           NaN        NaN       NaN        NaN       NaN  "
            ],
            "text/html": [
              "\n",
              "  <div id=\"df-66f93405-53e3-4171-bcde-6ab3bea8a899\" class=\"colab-df-container\">\n",
              "    <div>\n",
              "<style scoped>\n",
              "    .dataframe tbody tr th:only-of-type {\n",
              "        vertical-align: middle;\n",
              "    }\n",
              "\n",
              "    .dataframe tbody tr th {\n",
              "        vertical-align: top;\n",
              "    }\n",
              "\n",
              "    .dataframe thead th {\n",
              "        text-align: right;\n",
              "    }\n",
              "</style>\n",
              "<table border=\"1\" class=\"dataframe\">\n",
              "  <thead>\n",
              "    <tr style=\"text-align: right;\">\n",
              "      <th></th>\n",
              "      <th>count</th>\n",
              "      <th>unique</th>\n",
              "      <th>top</th>\n",
              "      <th>freq</th>\n",
              "      <th>mean</th>\n",
              "      <th>std</th>\n",
              "      <th>min</th>\n",
              "      <th>25%</th>\n",
              "      <th>50%</th>\n",
              "      <th>75%</th>\n",
              "      <th>max</th>\n",
              "    </tr>\n",
              "  </thead>\n",
              "  <tbody>\n",
              "    <tr>\n",
              "      <th>user_id</th>\n",
              "      <td>100.0</td>\n",
              "      <td>NaN</td>\n",
              "      <td>NaN</td>\n",
              "      <td>NaN</td>\n",
              "      <td>546517.0</td>\n",
              "      <td>52.295779</td>\n",
              "      <td>546443.0</td>\n",
              "      <td>546467.75</td>\n",
              "      <td>546492.5</td>\n",
              "      <td>546567.25</td>\n",
              "      <td>546592.0</td>\n",
              "    </tr>\n",
              "    <tr>\n",
              "      <th>group</th>\n",
              "      <td>100</td>\n",
              "      <td>2</td>\n",
              "      <td>control</td>\n",
              "      <td>50</td>\n",
              "      <td>NaN</td>\n",
              "      <td>NaN</td>\n",
              "      <td>NaN</td>\n",
              "      <td>NaN</td>\n",
              "      <td>NaN</td>\n",
              "      <td>NaN</td>\n",
              "      <td>NaN</td>\n",
              "    </tr>\n",
              "    <tr>\n",
              "      <th>landing_page</th>\n",
              "      <td>100</td>\n",
              "      <td>2</td>\n",
              "      <td>old</td>\n",
              "      <td>50</td>\n",
              "      <td>NaN</td>\n",
              "      <td>NaN</td>\n",
              "      <td>NaN</td>\n",
              "      <td>NaN</td>\n",
              "      <td>NaN</td>\n",
              "      <td>NaN</td>\n",
              "      <td>NaN</td>\n",
              "    </tr>\n",
              "    <tr>\n",
              "      <th>time_spent_on_the_page</th>\n",
              "      <td>100.0</td>\n",
              "      <td>NaN</td>\n",
              "      <td>NaN</td>\n",
              "      <td>NaN</td>\n",
              "      <td>5.3778</td>\n",
              "      <td>2.378166</td>\n",
              "      <td>0.19</td>\n",
              "      <td>3.88</td>\n",
              "      <td>5.415</td>\n",
              "      <td>7.0225</td>\n",
              "      <td>10.71</td>\n",
              "    </tr>\n",
              "    <tr>\n",
              "      <th>converted</th>\n",
              "      <td>100</td>\n",
              "      <td>2</td>\n",
              "      <td>yes</td>\n",
              "      <td>54</td>\n",
              "      <td>NaN</td>\n",
              "      <td>NaN</td>\n",
              "      <td>NaN</td>\n",
              "      <td>NaN</td>\n",
              "      <td>NaN</td>\n",
              "      <td>NaN</td>\n",
              "      <td>NaN</td>\n",
              "    </tr>\n",
              "    <tr>\n",
              "      <th>language_preferred</th>\n",
              "      <td>100</td>\n",
              "      <td>3</td>\n",
              "      <td>Spanish</td>\n",
              "      <td>34</td>\n",
              "      <td>NaN</td>\n",
              "      <td>NaN</td>\n",
              "      <td>NaN</td>\n",
              "      <td>NaN</td>\n",
              "      <td>NaN</td>\n",
              "      <td>NaN</td>\n",
              "      <td>NaN</td>\n",
              "    </tr>\n",
              "  </tbody>\n",
              "</table>\n",
              "</div>\n",
              "    <div class=\"colab-df-buttons\">\n",
              "\n",
              "  <div class=\"colab-df-container\">\n",
              "    <button class=\"colab-df-convert\" onclick=\"convertToInteractive('df-66f93405-53e3-4171-bcde-6ab3bea8a899')\"\n",
              "            title=\"Convert this dataframe to an interactive table.\"\n",
              "            style=\"display:none;\">\n",
              "\n",
              "  <svg xmlns=\"http://www.w3.org/2000/svg\" height=\"24px\" viewBox=\"0 -960 960 960\">\n",
              "    <path d=\"M120-120v-720h720v720H120Zm60-500h600v-160H180v160Zm220 220h160v-160H400v160Zm0 220h160v-160H400v160ZM180-400h160v-160H180v160Zm440 0h160v-160H620v160ZM180-180h160v-160H180v160Zm440 0h160v-160H620v160Z\"/>\n",
              "  </svg>\n",
              "    </button>\n",
              "\n",
              "  <style>\n",
              "    .colab-df-container {\n",
              "      display:flex;\n",
              "      gap: 12px;\n",
              "    }\n",
              "\n",
              "    .colab-df-convert {\n",
              "      background-color: #E8F0FE;\n",
              "      border: none;\n",
              "      border-radius: 50%;\n",
              "      cursor: pointer;\n",
              "      display: none;\n",
              "      fill: #1967D2;\n",
              "      height: 32px;\n",
              "      padding: 0 0 0 0;\n",
              "      width: 32px;\n",
              "    }\n",
              "\n",
              "    .colab-df-convert:hover {\n",
              "      background-color: #E2EBFA;\n",
              "      box-shadow: 0px 1px 2px rgba(60, 64, 67, 0.3), 0px 1px 3px 1px rgba(60, 64, 67, 0.15);\n",
              "      fill: #174EA6;\n",
              "    }\n",
              "\n",
              "    .colab-df-buttons div {\n",
              "      margin-bottom: 4px;\n",
              "    }\n",
              "\n",
              "    [theme=dark] .colab-df-convert {\n",
              "      background-color: #3B4455;\n",
              "      fill: #D2E3FC;\n",
              "    }\n",
              "\n",
              "    [theme=dark] .colab-df-convert:hover {\n",
              "      background-color: #434B5C;\n",
              "      box-shadow: 0px 1px 3px 1px rgba(0, 0, 0, 0.15);\n",
              "      filter: drop-shadow(0px 1px 2px rgba(0, 0, 0, 0.3));\n",
              "      fill: #FFFFFF;\n",
              "    }\n",
              "  </style>\n",
              "\n",
              "    <script>\n",
              "      const buttonEl =\n",
              "        document.querySelector('#df-66f93405-53e3-4171-bcde-6ab3bea8a899 button.colab-df-convert');\n",
              "      buttonEl.style.display =\n",
              "        google.colab.kernel.accessAllowed ? 'block' : 'none';\n",
              "\n",
              "      async function convertToInteractive(key) {\n",
              "        const element = document.querySelector('#df-66f93405-53e3-4171-bcde-6ab3bea8a899');\n",
              "        const dataTable =\n",
              "          await google.colab.kernel.invokeFunction('convertToInteractive',\n",
              "                                                    [key], {});\n",
              "        if (!dataTable) return;\n",
              "\n",
              "        const docLinkHtml = 'Like what you see? Visit the ' +\n",
              "          '<a target=\"_blank\" href=https://colab.research.google.com/notebooks/data_table.ipynb>data table notebook</a>'\n",
              "          + ' to learn more about interactive tables.';\n",
              "        element.innerHTML = '';\n",
              "        dataTable['output_type'] = 'display_data';\n",
              "        await google.colab.output.renderOutput(dataTable, element);\n",
              "        const docLink = document.createElement('div');\n",
              "        docLink.innerHTML = docLinkHtml;\n",
              "        element.appendChild(docLink);\n",
              "      }\n",
              "    </script>\n",
              "  </div>\n",
              "\n",
              "\n",
              "<div id=\"df-3a198883-77e9-4656-be0d-cfd5e471e988\">\n",
              "  <button class=\"colab-df-quickchart\" onclick=\"quickchart('df-3a198883-77e9-4656-be0d-cfd5e471e988')\"\n",
              "            title=\"Suggest charts\"\n",
              "            style=\"display:none;\">\n",
              "\n",
              "<svg xmlns=\"http://www.w3.org/2000/svg\" height=\"24px\"viewBox=\"0 0 24 24\"\n",
              "     width=\"24px\">\n",
              "    <g>\n",
              "        <path d=\"M19 3H5c-1.1 0-2 .9-2 2v14c0 1.1.9 2 2 2h14c1.1 0 2-.9 2-2V5c0-1.1-.9-2-2-2zM9 17H7v-7h2v7zm4 0h-2V7h2v10zm4 0h-2v-4h2v4z\"/>\n",
              "    </g>\n",
              "</svg>\n",
              "  </button>\n",
              "\n",
              "<style>\n",
              "  .colab-df-quickchart {\n",
              "      --bg-color: #E8F0FE;\n",
              "      --fill-color: #1967D2;\n",
              "      --hover-bg-color: #E2EBFA;\n",
              "      --hover-fill-color: #174EA6;\n",
              "      --disabled-fill-color: #AAA;\n",
              "      --disabled-bg-color: #DDD;\n",
              "  }\n",
              "\n",
              "  [theme=dark] .colab-df-quickchart {\n",
              "      --bg-color: #3B4455;\n",
              "      --fill-color: #D2E3FC;\n",
              "      --hover-bg-color: #434B5C;\n",
              "      --hover-fill-color: #FFFFFF;\n",
              "      --disabled-bg-color: #3B4455;\n",
              "      --disabled-fill-color: #666;\n",
              "  }\n",
              "\n",
              "  .colab-df-quickchart {\n",
              "    background-color: var(--bg-color);\n",
              "    border: none;\n",
              "    border-radius: 50%;\n",
              "    cursor: pointer;\n",
              "    display: none;\n",
              "    fill: var(--fill-color);\n",
              "    height: 32px;\n",
              "    padding: 0;\n",
              "    width: 32px;\n",
              "  }\n",
              "\n",
              "  .colab-df-quickchart:hover {\n",
              "    background-color: var(--hover-bg-color);\n",
              "    box-shadow: 0 1px 2px rgba(60, 64, 67, 0.3), 0 1px 3px 1px rgba(60, 64, 67, 0.15);\n",
              "    fill: var(--button-hover-fill-color);\n",
              "  }\n",
              "\n",
              "  .colab-df-quickchart-complete:disabled,\n",
              "  .colab-df-quickchart-complete:disabled:hover {\n",
              "    background-color: var(--disabled-bg-color);\n",
              "    fill: var(--disabled-fill-color);\n",
              "    box-shadow: none;\n",
              "  }\n",
              "\n",
              "  .colab-df-spinner {\n",
              "    border: 2px solid var(--fill-color);\n",
              "    border-color: transparent;\n",
              "    border-bottom-color: var(--fill-color);\n",
              "    animation:\n",
              "      spin 1s steps(1) infinite;\n",
              "  }\n",
              "\n",
              "  @keyframes spin {\n",
              "    0% {\n",
              "      border-color: transparent;\n",
              "      border-bottom-color: var(--fill-color);\n",
              "      border-left-color: var(--fill-color);\n",
              "    }\n",
              "    20% {\n",
              "      border-color: transparent;\n",
              "      border-left-color: var(--fill-color);\n",
              "      border-top-color: var(--fill-color);\n",
              "    }\n",
              "    30% {\n",
              "      border-color: transparent;\n",
              "      border-left-color: var(--fill-color);\n",
              "      border-top-color: var(--fill-color);\n",
              "      border-right-color: var(--fill-color);\n",
              "    }\n",
              "    40% {\n",
              "      border-color: transparent;\n",
              "      border-right-color: var(--fill-color);\n",
              "      border-top-color: var(--fill-color);\n",
              "    }\n",
              "    60% {\n",
              "      border-color: transparent;\n",
              "      border-right-color: var(--fill-color);\n",
              "    }\n",
              "    80% {\n",
              "      border-color: transparent;\n",
              "      border-right-color: var(--fill-color);\n",
              "      border-bottom-color: var(--fill-color);\n",
              "    }\n",
              "    90% {\n",
              "      border-color: transparent;\n",
              "      border-bottom-color: var(--fill-color);\n",
              "    }\n",
              "  }\n",
              "</style>\n",
              "\n",
              "  <script>\n",
              "    async function quickchart(key) {\n",
              "      const quickchartButtonEl =\n",
              "        document.querySelector('#' + key + ' button');\n",
              "      quickchartButtonEl.disabled = true;  // To prevent multiple clicks.\n",
              "      quickchartButtonEl.classList.add('colab-df-spinner');\n",
              "      try {\n",
              "        const charts = await google.colab.kernel.invokeFunction(\n",
              "            'suggestCharts', [key], {});\n",
              "      } catch (error) {\n",
              "        console.error('Error during call to suggestCharts:', error);\n",
              "      }\n",
              "      quickchartButtonEl.classList.remove('colab-df-spinner');\n",
              "      quickchartButtonEl.classList.add('colab-df-quickchart-complete');\n",
              "    }\n",
              "    (() => {\n",
              "      let quickchartButtonEl =\n",
              "        document.querySelector('#df-3a198883-77e9-4656-be0d-cfd5e471e988 button');\n",
              "      quickchartButtonEl.style.display =\n",
              "        google.colab.kernel.accessAllowed ? 'block' : 'none';\n",
              "    })();\n",
              "  </script>\n",
              "</div>\n",
              "    </div>\n",
              "  </div>\n"
            ]
          },
          "metadata": {},
          "execution_count": 8
        }
      ]
    },
    {
      "cell_type": "markdown",
      "source": [
        "1.   The user id column consists of unique ids of people viewing the page.\n",
        "2.   The average time spent on the page is 5.3 minutes and the median time spent on the page is 5.4 minutes.\n",
        "3.   Group column has two values and it is divided equally.(control and treatment groups)\n",
        "4.   Landing page column has two values and it is divided equally.(old and new)\n",
        "5.   The converted column says whether the user has subscribed to the news portal or not. 54 users have subscribed to the E news.\n",
        "6.   Three languages are available: English, French and Spanish. 34 users have preferred Spanish as their landing page language."
      ],
      "metadata": {
        "id": "mkGb541qAAG3"
      },
      "id": "mkGb541qAAG3"
    },
    {
      "cell_type": "code",
      "source": [
        "df.isna().sum()"
      ],
      "metadata": {
        "colab": {
          "base_uri": "https://localhost:8080/"
        },
        "id": "b45HmhFjHRL-",
        "outputId": "7a7809b7-7c18-4ef4-d812-dce73bee35cb"
      },
      "id": "b45HmhFjHRL-",
      "execution_count": null,
      "outputs": [
        {
          "output_type": "execute_result",
          "data": {
            "text/plain": [
              "user_id                   0\n",
              "group                     0\n",
              "landing_page              0\n",
              "time_spent_on_the_page    0\n",
              "converted                 0\n",
              "language_preferred        0\n",
              "dtype: int64"
            ]
          },
          "metadata": {},
          "execution_count": 9
        }
      ]
    },
    {
      "cell_type": "markdown",
      "source": [
        "There are no missing values in the dataset."
      ],
      "metadata": {
        "id": "P1Ci7-WeHaoc"
      },
      "id": "P1Ci7-WeHaoc"
    },
    {
      "cell_type": "code",
      "source": [
        "df.duplicated().sum()"
      ],
      "metadata": {
        "colab": {
          "base_uri": "https://localhost:8080/"
        },
        "id": "-B0kBZMGHoF0",
        "outputId": "ba35ea70-18ab-455e-ffac-8c13679bb79a"
      },
      "id": "-B0kBZMGHoF0",
      "execution_count": null,
      "outputs": [
        {
          "output_type": "execute_result",
          "data": {
            "text/plain": [
              "0"
            ]
          },
          "metadata": {},
          "execution_count": 10
        }
      ]
    },
    {
      "cell_type": "markdown",
      "source": [
        "There are no duplicate rows in the dataset."
      ],
      "metadata": {
        "id": "yRMBT44gIfDo"
      },
      "id": "yRMBT44gIfDo"
    },
    {
      "cell_type": "markdown",
      "metadata": {
        "id": "68f3b2c9"
      },
      "source": [
        "### Univariate Analysis"
      ],
      "id": "68f3b2c9"
    },
    {
      "cell_type": "code",
      "metadata": {
        "id": "1932d0f3",
        "colab": {
          "base_uri": "https://localhost:8080/",
          "height": 450
        },
        "outputId": "13371f32-3c7e-4e87-c4da-a64d2863046a"
      },
      "source": [
        "sns.boxplot(data = df, x = 'time_spent_on_the_page');"
      ],
      "id": "1932d0f3",
      "execution_count": null,
      "outputs": [
        {
          "output_type": "display_data",
          "data": {
            "text/plain": [
              "<Figure size 640x480 with 1 Axes>"
            ],
            "image/png": "[encoded data removed]"
          },
          "metadata": {}
        }
      ]
    },
    {
      "cell_type": "code",
      "source": [
        "sns.histplot(data = df, x = 'time_spent_on_the_page');"
      ],
      "metadata": {
        "colab": {
          "base_uri": "https://localhost:8080/",
          "height": 450
        },
        "id": "WRmkv8h1MRiQ",
        "outputId": "fe132203-b003-43db-874f-bd4897aa04f0"
      },
      "id": "WRmkv8h1MRiQ",
      "execution_count": null,
      "outputs": [
        {
          "output_type": "display_data",
          "data": {
            "text/plain": [
              "<Figure size 640x480 with 1 Axes>"
            ],
            "image/png": "[encoded data removed]"
          },
          "metadata": {}
        }
      ]
    },
    {
      "cell_type": "code",
      "source": [
        "sns.countplot(data = df, x = 'group');"
      ],
      "metadata": {
        "colab": {
          "base_uri": "https://localhost:8080/",
          "height": 449
        },
        "id": "x0gMkgEY_Ucy",
        "outputId": "0d1f2306-777c-436a-f888-4db05d9c3283"
      },
      "id": "x0gMkgEY_Ucy",
      "execution_count": null,
      "outputs": [
        {
          "output_type": "display_data",
          "data": {
            "text/plain": [
              "<Figure size 640x480 with 1 Axes>"
            ],
            "image/png": "[encoded data removed]"
          },
          "metadata": {}
        }
      ]
    },
    {
      "cell_type": "code",
      "source": [
        "df['group'].value_counts()"
      ],
      "metadata": {
        "colab": {
          "base_uri": "https://localhost:8080/"
        },
        "id": "jtdjdAKmM56G",
        "outputId": "3be43d79-f0de-4602-85f0-5edb9af30478"
      },
      "id": "jtdjdAKmM56G",
      "execution_count": null,
      "outputs": [
        {
          "output_type": "execute_result",
          "data": {
            "text/plain": [
              "control      50\n",
              "treatment    50\n",
              "Name: group, dtype: int64"
            ]
          },
          "metadata": {},
          "execution_count": 14
        }
      ]
    },
    {
      "cell_type": "code",
      "source": [
        "sns.countplot(data = df, x = 'landing_page');"
      ],
      "metadata": {
        "colab": {
          "base_uri": "https://localhost:8080/",
          "height": 450
        },
        "id": "sebajjtNNI4N",
        "outputId": "9f3e870b-3327-4948-e67a-ed1e127b1908"
      },
      "id": "sebajjtNNI4N",
      "execution_count": null,
      "outputs": [
        {
          "output_type": "display_data",
          "data": {
            "text/plain": [
              "<Figure size 640x480 with 1 Axes>"
            ],
            "image/png": "[encoded data removed]"
          },
          "metadata": {}
        }
      ]
    },
    {
      "cell_type": "code",
      "source": [
        "df['landing_page'].value_counts()"
      ],
      "metadata": {
        "colab": {
          "base_uri": "https://localhost:8080/"
        },
        "id": "_GML3Dq3NL3k",
        "outputId": "20410025-c935-4454-dba8-11f96a33a746"
      },
      "id": "_GML3Dq3NL3k",
      "execution_count": null,
      "outputs": [
        {
          "output_type": "execute_result",
          "data": {
            "text/plain": [
              "old    50\n",
              "new    50\n",
              "Name: landing_page, dtype: int64"
            ]
          },
          "metadata": {},
          "execution_count": 16
        }
      ]
    },
    {
      "cell_type": "code",
      "source": [
        "sns.countplot(data = df, x = 'converted');"
      ],
      "metadata": {
        "colab": {
          "base_uri": "https://localhost:8080/",
          "height": 449
        },
        "id": "tF8IIfmHNQ1B",
        "outputId": "8af5f381-a8e1-4c4a-be34-7992b45a34a0"
      },
      "id": "tF8IIfmHNQ1B",
      "execution_count": null,
      "outputs": [
        {
          "output_type": "display_data",
          "data": {
            "text/plain": [
              "<Figure size 640x480 with 1 Axes>"
            ],
            "image/png": "[encoded data removed]"
          },
          "metadata": {}
        }
      ]
    },
    {
      "cell_type": "code",
      "source": [
        "df['converted'].value_counts()"
      ],
      "metadata": {
        "colab": {
          "base_uri": "https://localhost:8080/"
        },
        "id": "FIg7iPmPNQ3d",
        "outputId": "341d282b-5558-4282-d4c8-5096c88e46c9"
      },
      "id": "FIg7iPmPNQ3d",
      "execution_count": null,
      "outputs": [
        {
          "output_type": "execute_result",
          "data": {
            "text/plain": [
              "yes    54\n",
              "no     46\n",
              "Name: converted, dtype: int64"
            ]
          },
          "metadata": {},
          "execution_count": 18
        }
      ]
    },
    {
      "cell_type": "code",
      "source": [
        "sns.countplot(data = df, x = 'language_preferred');"
      ],
      "metadata": {
        "colab": {
          "base_uri": "https://localhost:8080/",
          "height": 450
        },
        "id": "fp05lBfSNZ5J",
        "outputId": "4a1af8f0-fa1f-486e-91d2-df8ec6a0da45"
      },
      "id": "fp05lBfSNZ5J",
      "execution_count": null,
      "outputs": [
        {
          "output_type": "display_data",
          "data": {
            "text/plain": [
              "<Figure size 640x480 with 1 Axes>"
            ],
            "image/png": "[encoded data removed]"
          },
          "metadata": {}
        }
      ]
    },
    {
      "cell_type": "code",
      "source": [
        "df['language_preferred'].value_counts()"
      ],
      "metadata": {
        "colab": {
          "base_uri": "https://localhost:8080/"
        },
        "id": "wvtmKg-jNZ8U",
        "outputId": "9248bbc3-3cb5-495b-f6d2-fb434eb10f26"
      },
      "id": "wvtmKg-jNZ8U",
      "execution_count": null,
      "outputs": [
        {
          "output_type": "execute_result",
          "data": {
            "text/plain": [
              "Spanish    34\n",
              "French     34\n",
              "English    32\n",
              "Name: language_preferred, dtype: int64"
            ]
          },
          "metadata": {},
          "execution_count": 20
        }
      ]
    },
    {
      "cell_type": "markdown",
      "source": [
        "Univariate Analysis Observations:\n",
        "\n",
        "*   The median time spent on the page is 5.4 minutes. time_spent_on_the_page column is normally distributed. The minimum and the maximum time spent on the page is from 0.2 minutes to 10 minutes approximately. 50% of the users have spent between 4 to 7 minutes on the landing page.\n",
        "*   50% of the users belong to treatment group and the other 50% users belong to the control group in this sample dataset.\n",
        "*   Similarly 50% of the users have given the old landing page and 50% have given the new landing page in this sample dataset.\n",
        "*   54% of the users have subscribed to the news portal after viewing the landing page.\n",
        "*   There are 3 languages available in the landing page. English, Spanish and French. 34 users have preferred French, 34 have preferred Spanish and 32 have preferred English."
      ],
      "metadata": {
        "id": "ZxvjvhybNsby"
      },
      "id": "ZxvjvhybNsby"
    },
    {
      "cell_type": "markdown",
      "metadata": {
        "id": "fad2de2f"
      },
      "source": [
        "### Bivariate Analysis"
      ],
      "id": "fad2de2f"
    },
    {
      "cell_type": "code",
      "source": [
        "sns.countplot(data = df, x = 'landing_page' , hue = 'converted');"
      ],
      "metadata": {
        "colab": {
          "base_uri": "https://localhost:8080/",
          "height": 450
        },
        "id": "DyLgKjNQQioR",
        "outputId": "23dcdebe-d707-45b7-ff1b-252cf5ca24e4"
      },
      "id": "DyLgKjNQQioR",
      "execution_count": null,
      "outputs": [
        {
          "output_type": "display_data",
          "data": {
            "text/plain": [
              "<Figure size 640x480 with 1 Axes>"
            ],
            "image/png": "[encoded data removed]"
          },
          "metadata": {}
        }
      ]
    },
    {
      "cell_type": "code",
      "source": [
        "sns.countplot(data = df, x = 'group' , hue = 'converted');"
      ],
      "metadata": {
        "colab": {
          "base_uri": "https://localhost:8080/",
          "height": 449
        },
        "id": "ekk5eU1BR-x7",
        "outputId": "cfe70a26-72b8-40b5-be54-d2bc7701855b"
      },
      "id": "ekk5eU1BR-x7",
      "execution_count": null,
      "outputs": [
        {
          "output_type": "display_data",
          "data": {
            "text/plain": [
              "<Figure size 640x480 with 1 Axes>"
            ],
            "image/png": "[encoded data removed]"
          },
          "metadata": {}
        }
      ]
    },
    {
      "cell_type": "code",
      "source": [
        "sns.countplot(data = df, x = 'landing_page' , hue = 'language_preferred');"
      ],
      "metadata": {
        "colab": {
          "base_uri": "https://localhost:8080/",
          "height": 450
        },
        "id": "zhblTRTWTt0a",
        "outputId": "1aeec081-6653-4072-a8a8-7209421202f7"
      },
      "id": "zhblTRTWTt0a",
      "execution_count": null,
      "outputs": [
        {
          "output_type": "display_data",
          "data": {
            "text/plain": [
              "<Figure size 640x480 with 1 Axes>"
            ],
            "image/png": "[encoded data removed]"
          },
          "metadata": {}
        }
      ]
    },
    {
      "cell_type": "code",
      "source": [
        "sns.countplot(data = df, x = 'converted' , hue = 'language_preferred');"
      ],
      "metadata": {
        "colab": {
          "base_uri": "https://localhost:8080/",
          "height": 449
        },
        "id": "aDOBb1PBU0k_",
        "outputId": "0da6c39a-e0b2-42d8-d3f4-ba53fa689297"
      },
      "id": "aDOBb1PBU0k_",
      "execution_count": null,
      "outputs": [
        {
          "output_type": "display_data",
          "data": {
            "text/plain": [
              "<Figure size 640x480 with 1 Axes>"
            ],
            "image/png": "[encoded data removed]"
          },
          "metadata": {}
        }
      ]
    },
    {
      "cell_type": "code",
      "source": [
        "sns.boxplot(data = df, x = 'landing_page', y = 'time_spent_on_the_page' );"
      ],
      "metadata": {
        "colab": {
          "base_uri": "https://localhost:8080/",
          "height": 450
        },
        "id": "EVzCkKPAQiq4",
        "outputId": "3eec1e48-b3d7-4ad9-85d1-73f25c845ab4"
      },
      "id": "EVzCkKPAQiq4",
      "execution_count": null,
      "outputs": [
        {
          "output_type": "display_data",
          "data": {
            "text/plain": [
              "<Figure size 640x480 with 1 Axes>"
            ],
            "image/png": "[encoded data removed]"
          },
          "metadata": {}
        }
      ]
    },
    {
      "cell_type": "code",
      "source": [
        "sns.boxplot(data = df, x = 'converted', y = 'time_spent_on_the_page' );"
      ],
      "metadata": {
        "colab": {
          "base_uri": "https://localhost:8080/",
          "height": 449
        },
        "id": "dYF57N_GQitT",
        "outputId": "703d4d4b-6bc2-4ece-98d3-1e42acb9af6b"
      },
      "id": "dYF57N_GQitT",
      "execution_count": null,
      "outputs": [
        {
          "output_type": "display_data",
          "data": {
            "text/plain": [
              "<Figure size 640x480 with 1 Axes>"
            ],
            "image/png": "[encoded data removed]"
          },
          "metadata": {}
        }
      ]
    },
    {
      "cell_type": "code",
      "source": [
        "sns.boxplot(data = df, x = 'language_preferred', y = 'time_spent_on_the_page' );"
      ],
      "metadata": {
        "colab": {
          "base_uri": "https://localhost:8080/",
          "height": 450
        },
        "id": "YZFj9CgMUtHn",
        "outputId": "9deee09a-a3e4-4efa-85df-8b00cdc3b6f0"
      },
      "id": "YZFj9CgMUtHn",
      "execution_count": null,
      "outputs": [
        {
          "output_type": "display_data",
          "data": {
            "text/plain": [
              "<Figure size 640x480 with 1 Axes>"
            ],
            "image/png": "[encoded data removed]"
          },
          "metadata": {}
        }
      ]
    },
    {
      "cell_type": "markdown",
      "source": [
        "Bivariate Analysis Observations:\n",
        "\n",
        "*   About 34 users who have used new page have subscribed to the news portal. About 29 users who have used the old page have not subscribed to the news portal.\n",
        "*   The language preferred by the users from different groups are the same. 17 users have preferred Spanish on the old page and on the new page. 17 users have preferred French on the old and new page and 16 users have preferred English on the old and new page.\n",
        "*   Most of the people who have preferred English in their landing page has subscribed to the news portal. Most of the people who have not subscribed have preferred French.\n",
        "*   The median of time spent on the old page is less than the median of time spent on the new page.\n",
        "*   About 50% of users who have  the old page have spent approximately 3 to 6.5 minutes.\n",
        "*   About 50% of users who have  the new page have spent around 5.5 to 7 minutes. There are few outliers in this.\n",
        "*   Median time spent on the page who have subscribed to the portal is greater than the median time spent on the page who have not subscribed to the portal.\n",
        "*   The median time spent on the page is almost the same for all languages.\n",
        "\n",
        "Let's analyse if these observations have statistical evidence to prove whether right or wrong."
      ],
      "metadata": {
        "id": "elaZ5Wq4RErF"
      },
      "id": "elaZ5Wq4RErF"
    },
    {
      "cell_type": "markdown",
      "metadata": {
        "id": "27906576"
      },
      "source": [
        "## 1. Do the users spend more time on the new landing page than the existing landing page?"
      ],
      "id": "27906576"
    },
    {
      "cell_type": "markdown",
      "metadata": {
        "id": "e5fdf0c8"
      },
      "source": [
        "### Perform Visual Analysis"
      ],
      "id": "e5fdf0c8"
    },
    {
      "cell_type": "code",
      "metadata": {
        "id": "6eZJa41eg21n",
        "colab": {
          "base_uri": "https://localhost:8080/",
          "height": 450
        },
        "outputId": "041bcc2a-7075-488d-c408-1d5db8a31dd8"
      },
      "source": [
        "sns.boxplot(data = df, x = 'landing_page', y = 'time_spent_on_the_page' );"
      ],
      "id": "6eZJa41eg21n",
      "execution_count": null,
      "outputs": [
        {
          "output_type": "display_data",
          "data": {
            "text/plain": [
              "<Figure size 640x480 with 1 Axes>"
            ],
            "image/png": "[encoded data removed]"
          },
          "metadata": {}
        }
      ]
    },
    {
      "cell_type": "code",
      "source": [
        "sns.histplot(data = df, x= 'time_spent_on_the_page', kde = True);"
      ],
      "metadata": {
        "colab": {
          "base_uri": "https://localhost:8080/",
          "height": 450
        },
        "id": "vZ5dJQsFb89c",
        "outputId": "c1a7d7fc-1579-4e22-de79-e5fd82e9089e"
      },
      "id": "vZ5dJQsFb89c",
      "execution_count": null,
      "outputs": [
        {
          "output_type": "display_data",
          "data": {
            "text/plain": [
              "<Figure size 640x480 with 1 Axes>"
            ],
            "image/png": "[encoded data removed]"
          },
          "metadata": {}
        }
      ]
    },
    {
      "cell_type": "markdown",
      "source": [
        "\n",
        "*   The distribution is normally ditributed.\n",
        "*   The distribution of old and new landing page seems to be different.\n",
        "*   The median time spent on new landing page is more than the median time spent on the old landing page.\n",
        "*   Time spent on the new landing page seems to have outliers."
      ],
      "metadata": {
        "id": "hiny7yNFNR10"
      },
      "id": "hiny7yNFNR10"
    },
    {
      "cell_type": "markdown",
      "metadata": {
        "id": "56b3dafd"
      },
      "source": [
        "### Step 1: Define the null and alternate hypotheses"
      ],
      "id": "56b3dafd"
    },
    {
      "cell_type": "markdown",
      "metadata": {
        "id": "d2ac77ef"
      },
      "source": [
        "The Null and Alternate Hypothesis can be defined as:\n",
        "\n",
        "> $H_0$ : The average time spent on the new landing page is equal to the average time spent on the old landing page.\n",
        "\n",
        "> $H_a$ : The average time spent on the new landing page is greater than the average time spent on the old landing page.\n",
        "\n",
        "Mathematically, this can be written as\n",
        "\n",
        ">$H_0 : \\mu_1 = \\mu_2 $ <br>\n",
        ">$H_a : \\mu_1 > \\mu_2 $\n",
        "\n",
        "Here $\\mu_1$ is average time spent on the new landing page and $\\mu_2$ is the average time spent on the old landing page."
      ],
      "id": "d2ac77ef"
    },
    {
      "cell_type": "markdown",
      "metadata": {
        "id": "c7ee4907"
      },
      "source": [
        "### Step 2: Select Appropriate test"
      ],
      "id": "c7ee4907"
    },
    {
      "cell_type": "markdown",
      "metadata": {
        "id": "2c183cd7"
      },
      "source": [
        "This is a case of one-tailed test comparing two population means and the standard deviation is unknown. Hence, two-sample t-test is appropriate for this case."
      ],
      "id": "2c183cd7"
    },
    {
      "cell_type": "markdown",
      "metadata": {
        "id": "3f58c9a7"
      },
      "source": [
        "### Step 3: Decide the significance level"
      ],
      "id": "3f58c9a7"
    },
    {
      "cell_type": "markdown",
      "metadata": {
        "id": "92d7d7ee"
      },
      "source": [
        "From the problem statement, we can consider $α = 0.05 $"
      ],
      "id": "92d7d7ee"
    },
    {
      "cell_type": "markdown",
      "metadata": {
        "id": "5fed2eac"
      },
      "source": [
        "### Step 4: Collect and prepare data"
      ],
      "id": "5fed2eac"
    },
    {
      "cell_type": "code",
      "source": [
        "df_new_page = df.loc[df['landing_page'] == 'new']"
      ],
      "metadata": {
        "id": "QteDZpHpfZ5a"
      },
      "id": "QteDZpHpfZ5a",
      "execution_count": null,
      "outputs": []
    },
    {
      "cell_type": "code",
      "source": [
        "df_old_page = df.loc[df['landing_page'] == 'old']"
      ],
      "metadata": {
        "id": "G76kipuSa2U1"
      },
      "id": "G76kipuSa2U1",
      "execution_count": null,
      "outputs": []
    },
    {
      "cell_type": "code",
      "source": [
        "df_old_page['time_spent_on_the_page'].std().round(2)"
      ],
      "metadata": {
        "colab": {
          "base_uri": "https://localhost:8080/"
        },
        "id": "XBVd2JoPbGMb",
        "outputId": "b2261986-0c47-4778-d874-eb4c816d7157"
      },
      "id": "XBVd2JoPbGMb",
      "execution_count": null,
      "outputs": [
        {
          "output_type": "execute_result",
          "data": {
            "text/plain": [
              "2.58"
            ]
          },
          "metadata": {},
          "execution_count": 32
        }
      ]
    },
    {
      "cell_type": "code",
      "source": [
        "df_new_page['time_spent_on_the_page'].std().round(2)"
      ],
      "metadata": {
        "colab": {
          "base_uri": "https://localhost:8080/"
        },
        "id": "zuCHA14FbGO8",
        "outputId": "a8f73744-0a02-4210-dd32-d6b798017f46"
      },
      "id": "zuCHA14FbGO8",
      "execution_count": null,
      "outputs": [
        {
          "output_type": "execute_result",
          "data": {
            "text/plain": [
              "1.82"
            ]
          },
          "metadata": {},
          "execution_count": 33
        }
      ]
    },
    {
      "cell_type": "markdown",
      "metadata": {
        "id": "f5c5258d"
      },
      "source": [
        "### Step 5: Calculate the p-value"
      ],
      "id": "f5c5258d"
    },
    {
      "cell_type": "code",
      "source": [
        "test_stat, pval = stats.ttest_ind(df_new_page['time_spent_on_the_page'], df_old_page['time_spent_on_the_page'], alternative = 'greater', equal_var = False)\n",
        "print(\"The p value is\",pval)"
      ],
      "metadata": {
        "colab": {
          "base_uri": "https://localhost:8080/"
        },
        "id": "dhWuZ5zZhQqJ",
        "outputId": "cb32f1c6-0b9f-4d05-a7d5-e1a9617186f9"
      },
      "id": "dhWuZ5zZhQqJ",
      "execution_count": null,
      "outputs": [
        {
          "output_type": "stream",
          "name": "stdout",
          "text": [
            "The p value is 0.0001392381225166549\n"
          ]
        }
      ]
    },
    {
      "cell_type": "markdown",
      "source": [
        "Since the sample standard deviations are not equal we have used equal_var = False.\n",
        "\n",
        "alternative = greater is used since it is a one tailed test and we are checking if the average time spent on the new landing page is greater than the average time spent on the old landing page."
      ],
      "metadata": {
        "id": "ueQRuu0M0D3W"
      },
      "id": "ueQRuu0M0D3W"
    },
    {
      "cell_type": "markdown",
      "metadata": {
        "id": "359b12f8"
      },
      "source": [
        "### Step 6: Compare the p-value with $\\alpha$"
      ],
      "id": "359b12f8"
    },
    {
      "cell_type": "code",
      "metadata": {
        "id": "fac8594a",
        "colab": {
          "base_uri": "https://localhost:8080/"
        },
        "outputId": "55cf4d0a-0782-4ce2-d5f3-0bc322dc9e9d"
      },
      "source": [
        "if pval < 0.05:\n",
        "  print(\"There is enough statistical evidence to reject the null hypothesis since\",pval,\"is less than 0.05\")\n",
        "else:\n",
        "  print(\"There is not enough statistical evidence to reject the null hypothesis since\",pval,\"is greater than 0.05\")"
      ],
      "id": "fac8594a",
      "execution_count": null,
      "outputs": [
        {
          "output_type": "stream",
          "name": "stdout",
          "text": [
            "There is enough statistical evidence to reject the null hypothesis since 0.0001392381225166549 is less than 0.05\n"
          ]
        }
      ]
    },
    {
      "cell_type": "markdown",
      "metadata": {
        "id": "d9affc84"
      },
      "source": [
        "### Step 7:  Draw inference"
      ],
      "id": "d9affc84"
    },
    {
      "cell_type": "markdown",
      "metadata": {
        "id": "6b16dd4b"
      },
      "source": [
        "Since the p-value is less than the 5% significance level, we reject the null hypothesis. We have enough evidence to say that the average time spent on the new landing page is greater than the average time spent on the old landing page."
      ],
      "id": "6b16dd4b"
    },
    {
      "cell_type": "markdown",
      "metadata": {
        "id": "353e9d24"
      },
      "source": [
        "## 2. Is the conversion rate (the proportion of users who visit the landing page and get converted) for the new page greater than the conversion rate for the old page?"
      ],
      "id": "353e9d24"
    },
    {
      "cell_type": "markdown",
      "metadata": {
        "id": "Q8EdNbIX32k6"
      },
      "source": [
        "### Perform Visual Analysis"
      ],
      "id": "Q8EdNbIX32k6"
    },
    {
      "cell_type": "code",
      "source": [
        "pd.crosstab(df.landing_page , df.converted)"
      ],
      "metadata": {
        "colab": {
          "base_uri": "https://localhost:8080/",
          "height": 143
        },
        "id": "IxEqesGGu1wD",
        "outputId": "b9492612-517b-43d7-f745-ed8d2d3e5054"
      },
      "id": "IxEqesGGu1wD",
      "execution_count": null,
      "outputs": [
        {
          "output_type": "execute_result",
          "data": {
            "text/plain": [
              "converted     no  yes\n",
              "landing_page         \n",
              "new           17   33\n",
              "old           29   21"
            ],
            "text/html": [
              "\n",
              "  <div id=\"df-e302de5b-ccbc-465a-a3c2-5b5f3267e28f\" class=\"colab-df-container\">\n",
              "    <div>\n",
              "<style scoped>\n",
              "    .dataframe tbody tr th:only-of-type {\n",
              "        vertical-align: middle;\n",
              "    }\n",
              "\n",
              "    .dataframe tbody tr th {\n",
              "        vertical-align: top;\n",
              "    }\n",
              "\n",
              "    .dataframe thead th {\n",
              "        text-align: right;\n",
              "    }\n",
              "</style>\n",
              "<table border=\"1\" class=\"dataframe\">\n",
              "  <thead>\n",
              "    <tr style=\"text-align: right;\">\n",
              "      <th>converted</th>\n",
              "      <th>no</th>\n",
              "      <th>yes</th>\n",
              "    </tr>\n",
              "    <tr>\n",
              "      <th>landing_page</th>\n",
              "      <th></th>\n",
              "      <th></th>\n",
              "    </tr>\n",
              "  </thead>\n",
              "  <tbody>\n",
              "    <tr>\n",
              "      <th>new</th>\n",
              "      <td>17</td>\n",
              "      <td>33</td>\n",
              "    </tr>\n",
              "    <tr>\n",
              "      <th>old</th>\n",
              "      <td>29</td>\n",
              "      <td>21</td>\n",
              "    </tr>\n",
              "  </tbody>\n",
              "</table>\n",
              "</div>\n",
              "    <div class=\"colab-df-buttons\">\n",
              "\n",
              "  <div class=\"colab-df-container\">\n",
              "    <button class=\"colab-df-convert\" onclick=\"convertToInteractive('df-e302de5b-ccbc-465a-a3c2-5b5f3267e28f')\"\n",
              "            title=\"Convert this dataframe to an interactive table.\"\n",
              "            style=\"display:none;\">\n",
              "\n",
              "  <svg xmlns=\"http://www.w3.org/2000/svg\" height=\"24px\" viewBox=\"0 -960 960 960\">\n",
              "    <path d=\"M120-120v-720h720v720H120Zm60-500h600v-160H180v160Zm220 220h160v-160H400v160Zm0 220h160v-160H400v160ZM180-400h160v-160H180v160Zm440 0h160v-160H620v160ZM180-180h160v-160H180v160Zm440 0h160v-160H620v160Z\"/>\n",
              "  </svg>\n",
              "    </button>\n",
              "\n",
              "  <style>\n",
              "    .colab-df-container {\n",
              "      display:flex;\n",
              "      gap: 12px;\n",
              "    }\n",
              "\n",
              "    .colab-df-convert {\n",
              "      background-color: #E8F0FE;\n",
              "      border: none;\n",
              "      border-radius: 50%;\n",
              "      cursor: pointer;\n",
              "      display: none;\n",
              "      fill: #1967D2;\n",
              "      height: 32px;\n",
              "      padding: 0 0 0 0;\n",
              "      width: 32px;\n",
              "    }\n",
              "\n",
              "    .colab-df-convert:hover {\n",
              "      background-color: #E2EBFA;\n",
              "      box-shadow: 0px 1px 2px rgba(60, 64, 67, 0.3), 0px 1px 3px 1px rgba(60, 64, 67, 0.15);\n",
              "      fill: #174EA6;\n",
              "    }\n",
              "\n",
              "    .colab-df-buttons div {\n",
              "      margin-bottom: 4px;\n",
              "    }\n",
              "\n",
              "    [theme=dark] .colab-df-convert {\n",
              "      background-color: #3B4455;\n",
              "      fill: #D2E3FC;\n",
              "    }\n",
              "\n",
              "    [theme=dark] .colab-df-convert:hover {\n",
              "      background-color: #434B5C;\n",
              "      box-shadow: 0px 1px 3px 1px rgba(0, 0, 0, 0.15);\n",
              "      filter: drop-shadow(0px 1px 2px rgba(0, 0, 0, 0.3));\n",
              "      fill: #FFFFFF;\n",
              "    }\n",
              "  </style>\n",
              "\n",
              "    <script>\n",
              "      const buttonEl =\n",
              "        document.querySelector('#df-e302de5b-ccbc-465a-a3c2-5b5f3267e28f button.colab-df-convert');\n",
              "      buttonEl.style.display =\n",
              "        google.colab.kernel.accessAllowed ? 'block' : 'none';\n",
              "\n",
              "      async function convertToInteractive(key) {\n",
              "        const element = document.querySelector('#df-e302de5b-ccbc-465a-a3c2-5b5f3267e28f');\n",
              "        const dataTable =\n",
              "          await google.colab.kernel.invokeFunction('convertToInteractive',\n",
              "                                                    [key], {});\n",
              "        if (!dataTable) return;\n",
              "\n",
              "        const docLinkHtml = 'Like what you see? Visit the ' +\n",
              "          '<a target=\"_blank\" href=https://colab.research.google.com/notebooks/data_table.ipynb>data table notebook</a>'\n",
              "          + ' to learn more about interactive tables.';\n",
              "        element.innerHTML = '';\n",
              "        dataTable['output_type'] = 'display_data';\n",
              "        await google.colab.output.renderOutput(dataTable, element);\n",
              "        const docLink = document.createElement('div');\n",
              "        docLink.innerHTML = docLinkHtml;\n",
              "        element.appendChild(docLink);\n",
              "      }\n",
              "    </script>\n",
              "  </div>\n",
              "\n",
              "\n",
              "<div id=\"df-0137d4eb-9e5d-45e6-88f2-cf4dfb61a504\">\n",
              "  <button class=\"colab-df-quickchart\" onclick=\"quickchart('df-0137d4eb-9e5d-45e6-88f2-cf4dfb61a504')\"\n",
              "            title=\"Suggest charts\"\n",
              "            style=\"display:none;\">\n",
              "\n",
              "<svg xmlns=\"http://www.w3.org/2000/svg\" height=\"24px\"viewBox=\"0 0 24 24\"\n",
              "     width=\"24px\">\n",
              "    <g>\n",
              "        <path d=\"M19 3H5c-1.1 0-2 .9-2 2v14c0 1.1.9 2 2 2h14c1.1 0 2-.9 2-2V5c0-1.1-.9-2-2-2zM9 17H7v-7h2v7zm4 0h-2V7h2v10zm4 0h-2v-4h2v4z\"/>\n",
              "    </g>\n",
              "</svg>\n",
              "  </button>\n",
              "\n",
              "<style>\n",
              "  .colab-df-quickchart {\n",
              "      --bg-color: #E8F0FE;\n",
              "      --fill-color: #1967D2;\n",
              "      --hover-bg-color: #E2EBFA;\n",
              "      --hover-fill-color: #174EA6;\n",
              "      --disabled-fill-color: #AAA;\n",
              "      --disabled-bg-color: #DDD;\n",
              "  }\n",
              "\n",
              "  [theme=dark] .colab-df-quickchart {\n",
              "      --bg-color: #3B4455;\n",
              "      --fill-color: #D2E3FC;\n",
              "      --hover-bg-color: #434B5C;\n",
              "      --hover-fill-color: #FFFFFF;\n",
              "      --disabled-bg-color: #3B4455;\n",
              "      --disabled-fill-color: #666;\n",
              "  }\n",
              "\n",
              "  .colab-df-quickchart {\n",
              "    background-color: var(--bg-color);\n",
              "    border: none;\n",
              "    border-radius: 50%;\n",
              "    cursor: pointer;\n",
              "    display: none;\n",
              "    fill: var(--fill-color);\n",
              "    height: 32px;\n",
              "    padding: 0;\n",
              "    width: 32px;\n",
              "  }\n",
              "\n",
              "  .colab-df-quickchart:hover {\n",
              "    background-color: var(--hover-bg-color);\n",
              "    box-shadow: 0 1px 2px rgba(60, 64, 67, 0.3), 0 1px 3px 1px rgba(60, 64, 67, 0.15);\n",
              "    fill: var(--button-hover-fill-color);\n",
              "  }\n",
              "\n",
              "  .colab-df-quickchart-complete:disabled,\n",
              "  .colab-df-quickchart-complete:disabled:hover {\n",
              "    background-color: var(--disabled-bg-color);\n",
              "    fill: var(--disabled-fill-color);\n",
              "    box-shadow: none;\n",
              "  }\n",
              "\n",
              "  .colab-df-spinner {\n",
              "    border: 2px solid var(--fill-color);\n",
              "    border-color: transparent;\n",
              "    border-bottom-color: var(--fill-color);\n",
              "    animation:\n",
              "      spin 1s steps(1) infinite;\n",
              "  }\n",
              "\n",
              "  @keyframes spin {\n",
              "    0% {\n",
              "      border-color: transparent;\n",
              "      border-bottom-color: var(--fill-color);\n",
              "      border-left-color: var(--fill-color);\n",
              "    }\n",
              "    20% {\n",
              "      border-color: transparent;\n",
              "      border-left-color: var(--fill-color);\n",
              "      border-top-color: var(--fill-color);\n",
              "    }\n",
              "    30% {\n",
              "      border-color: transparent;\n",
              "      border-left-color: var(--fill-color);\n",
              "      border-top-color: var(--fill-color);\n",
              "      border-right-color: var(--fill-color);\n",
              "    }\n",
              "    40% {\n",
              "      border-color: transparent;\n",
              "      border-right-color: var(--fill-color);\n",
              "      border-top-color: var(--fill-color);\n",
              "    }\n",
              "    60% {\n",
              "      border-color: transparent;\n",
              "      border-right-color: var(--fill-color);\n",
              "    }\n",
              "    80% {\n",
              "      border-color: transparent;\n",
              "      border-right-color: var(--fill-color);\n",
              "      border-bottom-color: var(--fill-color);\n",
              "    }\n",
              "    90% {\n",
              "      border-color: transparent;\n",
              "      border-bottom-color: var(--fill-color);\n",
              "    }\n",
              "  }\n",
              "</style>\n",
              "\n",
              "  <script>\n",
              "    async function quickchart(key) {\n",
              "      const quickchartButtonEl =\n",
              "        document.querySelector('#' + key + ' button');\n",
              "      quickchartButtonEl.disabled = true;  // To prevent multiple clicks.\n",
              "      quickchartButtonEl.classList.add('colab-df-spinner');\n",
              "      try {\n",
              "        const charts = await google.colab.kernel.invokeFunction(\n",
              "            'suggestCharts', [key], {});\n",
              "      } catch (error) {\n",
              "        console.error('Error during call to suggestCharts:', error);\n",
              "      }\n",
              "      quickchartButtonEl.classList.remove('colab-df-spinner');\n",
              "      quickchartButtonEl.classList.add('colab-df-quickchart-complete');\n",
              "    }\n",
              "    (() => {\n",
              "      let quickchartButtonEl =\n",
              "        document.querySelector('#df-0137d4eb-9e5d-45e6-88f2-cf4dfb61a504 button');\n",
              "      quickchartButtonEl.style.display =\n",
              "        google.colab.kernel.accessAllowed ? 'block' : 'none';\n",
              "    })();\n",
              "  </script>\n",
              "</div>\n",
              "    </div>\n",
              "  </div>\n"
            ]
          },
          "metadata": {},
          "execution_count": 36
        }
      ]
    },
    {
      "cell_type": "code",
      "metadata": {
        "id": "b7f52898",
        "colab": {
          "base_uri": "https://localhost:8080/",
          "height": 450
        },
        "outputId": "998e3778-20fc-42e3-bfc6-df408d9ccb73"
      },
      "source": [
        "sns.countplot(data = df, x = 'landing_page' , hue = 'converted');"
      ],
      "id": "b7f52898",
      "execution_count": null,
      "outputs": [
        {
          "output_type": "display_data",
          "data": {
            "text/plain": [
              "<Figure size 640x480 with 1 Axes>"
            ],
            "image/png": "[encoded data removed]"
          },
          "metadata": {}
        }
      ]
    },
    {
      "cell_type": "markdown",
      "source": [
        "\n",
        "*   Based on the visual we can say that proportion of the subscribed users is more in new page users than the old page users.\n",
        "*   Not many old page users have subscribed to the news portal."
      ],
      "metadata": {
        "id": "fnGbIX39uAX-"
      },
      "id": "fnGbIX39uAX-"
    },
    {
      "cell_type": "markdown",
      "metadata": {
        "id": "DoD5anTL4A33"
      },
      "source": [
        "### Step 1: Define the null and alternate hypotheses"
      ],
      "id": "DoD5anTL4A33"
    },
    {
      "cell_type": "markdown",
      "source": [
        "The Null and Alternate Hypothesis can be defined as:\n",
        "\n",
        "> $H_0$ : The proportion of the new page users who have subscribed to the news portal is equal to the proportion of the old page users who have subscribed to the news portal.\n",
        "\n",
        "> $H_a$ : The proportion of the new page users who have subscribed to the news portal is greater than the proportion of the old page users who have subcribed to the news portal\n",
        "\n",
        "Mathematically, this can be written as\n",
        "\n",
        ">$H_0 : p_1 = p_2 $ <br>\n",
        ">$H_a : p_1 > p_2 $\n",
        "\n",
        "Here $p_1$ is the proportion of the new page users who have subscribed to the news portal and $p_2$ is the proportion of the old page users who have subscribed to the news portal."
      ],
      "metadata": {
        "id": "rvmF5rRU4F8i"
      },
      "id": "rvmF5rRU4F8i"
    },
    {
      "cell_type": "markdown",
      "metadata": {
        "id": "Vx97Noi04KHv"
      },
      "source": [
        "### Step 2: Select Appropriate test"
      ],
      "id": "Vx97Noi04KHv"
    },
    {
      "cell_type": "markdown",
      "source": [
        "This is the case of one tailed test where we are calculating proportions (old/new landing page and have/have not subscribed to the news portal) of two populations. Hence a two-sample proportion z-test is used for this case."
      ],
      "metadata": {
        "id": "z495uElIxg0v"
      },
      "id": "z495uElIxg0v"
    },
    {
      "cell_type": "markdown",
      "metadata": {
        "id": "bf6Yw5E24eFH"
      },
      "source": [
        "### Step 3: Decide the significance level"
      ],
      "id": "bf6Yw5E24eFH"
    },
    {
      "cell_type": "markdown",
      "source": [
        "From the problem statement, we can consider $α = 0.05 $"
      ],
      "metadata": {
        "id": "lSNHwiWrz_Iv"
      },
      "id": "lSNHwiWrz_Iv"
    },
    {
      "cell_type": "markdown",
      "metadata": {
        "id": "26Xlpd_Y4iLK"
      },
      "source": [
        "### Step 4: Collect and prepare data"
      ],
      "id": "26Xlpd_Y4iLK"
    },
    {
      "cell_type": "code",
      "source": [
        "df_new_page.shape"
      ],
      "metadata": {
        "colab": {
          "base_uri": "https://localhost:8080/"
        },
        "id": "1XFipAvI2pgC",
        "outputId": "ea545c85-6391-4049-891f-9361790b9faf"
      },
      "id": "1XFipAvI2pgC",
      "execution_count": null,
      "outputs": [
        {
          "output_type": "execute_result",
          "data": {
            "text/plain": [
              "(50, 6)"
            ]
          },
          "metadata": {},
          "execution_count": 38
        }
      ]
    },
    {
      "cell_type": "code",
      "source": [
        "df_old_page.shape"
      ],
      "metadata": {
        "colab": {
          "base_uri": "https://localhost:8080/"
        },
        "id": "QZe43eje2pqF",
        "outputId": "f9b9c707-9298-4b70-d0c6-2bef48810b44"
      },
      "id": "QZe43eje2pqF",
      "execution_count": null,
      "outputs": [
        {
          "output_type": "execute_result",
          "data": {
            "text/plain": [
              "(50, 6)"
            ]
          },
          "metadata": {},
          "execution_count": 39
        }
      ]
    },
    {
      "cell_type": "code",
      "source": [
        "df_new_converted = df_new_page.loc[df_new_page['converted'] == 'yes']"
      ],
      "metadata": {
        "id": "vPagygps0MEo"
      },
      "id": "vPagygps0MEo",
      "execution_count": null,
      "outputs": []
    },
    {
      "cell_type": "code",
      "source": [
        "df_old_converted = df_old_page.loc[df_old_page['converted'] == 'yes']"
      ],
      "metadata": {
        "id": "NH3GyJH11EML"
      },
      "id": "NH3GyJH11EML",
      "execution_count": null,
      "outputs": []
    },
    {
      "cell_type": "code",
      "source": [
        "df_new_converted.shape"
      ],
      "metadata": {
        "colab": {
          "base_uri": "https://localhost:8080/"
        },
        "id": "_sLIuvXu07Ci",
        "outputId": "c66cab25-c1bf-43fe-d166-b2d86461762c"
      },
      "id": "_sLIuvXu07Ci",
      "execution_count": null,
      "outputs": [
        {
          "output_type": "execute_result",
          "data": {
            "text/plain": [
              "(33, 6)"
            ]
          },
          "metadata": {},
          "execution_count": 42
        }
      ]
    },
    {
      "cell_type": "code",
      "source": [
        "df_old_converted.shape"
      ],
      "metadata": {
        "colab": {
          "base_uri": "https://localhost:8080/"
        },
        "id": "4ueDykSt1S6p",
        "outputId": "c96bf6ff-c438-4a68-f1c3-8997db962107"
      },
      "id": "4ueDykSt1S6p",
      "execution_count": null,
      "outputs": [
        {
          "output_type": "execute_result",
          "data": {
            "text/plain": [
              "(21, 6)"
            ]
          },
          "metadata": {},
          "execution_count": 43
        }
      ]
    },
    {
      "cell_type": "code",
      "source": [
        "counts = np.array([df_new_converted.shape[0], df_old_converted.shape[0]])\n",
        "print(\"The number of users who have converted from new page and old page are\",counts[0],\"and\",counts[1],\"respectively\")\n",
        "nobs = np.array([df_new_page.shape[0], df_old_page.shape[0]])\n",
        "print(\"The total number of users from new page and old page are\",nobs[0],\"and\",nobs[1],\"respectively\")"
      ],
      "metadata": {
        "colab": {
          "base_uri": "https://localhost:8080/"
        },
        "id": "Ddnz-VuA1Xz4",
        "outputId": "a600ac7e-72d7-4e98-dae0-ab2ddc29edb6"
      },
      "id": "Ddnz-VuA1Xz4",
      "execution_count": null,
      "outputs": [
        {
          "output_type": "stream",
          "name": "stdout",
          "text": [
            "The number of users who have converted from new page and old page are 33 and 21 respectively\n",
            "The total number of users from new page and old page are 50 and 50 respectively\n"
          ]
        }
      ]
    },
    {
      "cell_type": "markdown",
      "metadata": {
        "id": "b84wRtqf4mYs"
      },
      "source": [
        "### Step 5: Calculate the p-value"
      ],
      "id": "b84wRtqf4mYs"
    },
    {
      "cell_type": "code",
      "source": [
        "from statsmodels.stats.proportion import proportions_ztest\n",
        "\n",
        "test_stat,pval = proportions_ztest(counts,nobs,alternative = 'larger')\n",
        "print(\"the p value is\",pval)"
      ],
      "metadata": {
        "colab": {
          "base_uri": "https://localhost:8080/"
        },
        "id": "p1SfQfcA4CjA",
        "outputId": "47646eeb-b7d9-450d-830a-e5d2b37c4a65"
      },
      "id": "p1SfQfcA4CjA",
      "execution_count": null,
      "outputs": [
        {
          "output_type": "stream",
          "name": "stdout",
          "text": [
            "the p value is 0.008026308204056278\n"
          ]
        }
      ]
    },
    {
      "cell_type": "markdown",
      "metadata": {
        "id": "12D90qQd4qXO"
      },
      "source": [
        "### Step 6: Compare the p-value with $\\alpha$"
      ],
      "id": "12D90qQd4qXO"
    },
    {
      "cell_type": "code",
      "source": [
        "if pval < 0.05:\n",
        "  print(\"There is enough statistical evidence to reject the null hypothesis since\",pval,\"is less than 0.05\")\n",
        "else:\n",
        "  print(\"There is not enough statistical evidence to reject the null hypothesis since\",pval,\"is greater than 0.05\")"
      ],
      "metadata": {
        "colab": {
          "base_uri": "https://localhost:8080/"
        },
        "id": "J2Sp0Nw17STv",
        "outputId": "a14fb9f3-6392-452d-f4e9-bd4c12097b6c"
      },
      "id": "J2Sp0Nw17STv",
      "execution_count": null,
      "outputs": [
        {
          "output_type": "stream",
          "name": "stdout",
          "text": [
            "There is enough statistical evidence to reject the null hypothesis since 0.008026308204056278 is less than 0.05\n"
          ]
        }
      ]
    },
    {
      "cell_type": "markdown",
      "metadata": {
        "id": "mR9WsicC4t25"
      },
      "source": [
        "### Step 7:  Draw inference"
      ],
      "id": "mR9WsicC4t25"
    },
    {
      "cell_type": "markdown",
      "source": [
        "Since the p-value is less than the 5% significance level, there is enough statistical evidence to say that the proportion of new page users who have subscribed to the news portal is greater than the proportion of the old page users who have subscribed to the news portal."
      ],
      "metadata": {
        "id": "nL_E_nBZ7cKo"
      },
      "id": "nL_E_nBZ7cKo"
    },
    {
      "cell_type": "markdown",
      "metadata": {
        "id": "d49bfa2d"
      },
      "source": [
        "## 3. Is the conversion and preferred language are independent or related?"
      ],
      "id": "d49bfa2d"
    },
    {
      "cell_type": "markdown",
      "metadata": {
        "id": "llfhHxRF4X9I"
      },
      "source": [
        "### Perform Visual Analysis"
      ],
      "id": "llfhHxRF4X9I"
    },
    {
      "cell_type": "code",
      "source": [
        "pd.crosstab(df.language_preferred , df.converted)"
      ],
      "metadata": {
        "colab": {
          "base_uri": "https://localhost:8080/",
          "height": 175
        },
        "id": "tptCSiKUBv6H",
        "outputId": "b4635144-f784-4201-9fac-bfb84700d2c2"
      },
      "id": "tptCSiKUBv6H",
      "execution_count": null,
      "outputs": [
        {
          "output_type": "execute_result",
          "data": {
            "text/plain": [
              "converted           no  yes\n",
              "language_preferred         \n",
              "English             11   21\n",
              "French              19   15\n",
              "Spanish             16   18"
            ],
            "text/html": [
              "\n",
              "  <div id=\"df-fd1e7640-8ab4-48d0-b902-6ccf7662e6cd\" class=\"colab-df-container\">\n",
              "    <div>\n",
              "<style scoped>\n",
              "    .dataframe tbody tr th:only-of-type {\n",
              "        vertical-align: middle;\n",
              "    }\n",
              "\n",
              "    .dataframe tbody tr th {\n",
              "        vertical-align: top;\n",
              "    }\n",
              "\n",
              "    .dataframe thead th {\n",
              "        text-align: right;\n",
              "    }\n",
              "</style>\n",
              "<table border=\"1\" class=\"dataframe\">\n",
              "  <thead>\n",
              "    <tr style=\"text-align: right;\">\n",
              "      <th>converted</th>\n",
              "      <th>no</th>\n",
              "      <th>yes</th>\n",
              "    </tr>\n",
              "    <tr>\n",
              "      <th>language_preferred</th>\n",
              "      <th></th>\n",
              "      <th></th>\n",
              "    </tr>\n",
              "  </thead>\n",
              "  <tbody>\n",
              "    <tr>\n",
              "      <th>English</th>\n",
              "      <td>11</td>\n",
              "      <td>21</td>\n",
              "    </tr>\n",
              "    <tr>\n",
              "      <th>French</th>\n",
              "      <td>19</td>\n",
              "      <td>15</td>\n",
              "    </tr>\n",
              "    <tr>\n",
              "      <th>Spanish</th>\n",
              "      <td>16</td>\n",
              "      <td>18</td>\n",
              "    </tr>\n",
              "  </tbody>\n",
              "</table>\n",
              "</div>\n",
              "    <div class=\"colab-df-buttons\">\n",
              "\n",
              "  <div class=\"colab-df-container\">\n",
              "    <button class=\"colab-df-convert\" onclick=\"convertToInteractive('df-fd1e7640-8ab4-48d0-b902-6ccf7662e6cd')\"\n",
              "            title=\"Convert this dataframe to an interactive table.\"\n",
              "            style=\"display:none;\">\n",
              "\n",
              "  <svg xmlns=\"http://www.w3.org/2000/svg\" height=\"24px\" viewBox=\"0 -960 960 960\">\n",
              "    <path d=\"M120-120v-720h720v720H120Zm60-500h600v-160H180v160Zm220 220h160v-160H400v160Zm0 220h160v-160H400v160ZM180-400h160v-160H180v160Zm440 0h160v-160H620v160ZM180-180h160v-160H180v160Zm440 0h160v-160H620v160Z\"/>\n",
              "  </svg>\n",
              "    </button>\n",
              "\n",
              "  <style>\n",
              "    .colab-df-container {\n",
              "      display:flex;\n",
              "      gap: 12px;\n",
              "    }\n",
              "\n",
              "    .colab-df-convert {\n",
              "      background-color: #E8F0FE;\n",
              "      border: none;\n",
              "      border-radius: 50%;\n",
              "      cursor: pointer;\n",
              "      display: none;\n",
              "      fill: #1967D2;\n",
              "      height: 32px;\n",
              "      padding: 0 0 0 0;\n",
              "      width: 32px;\n",
              "    }\n",
              "\n",
              "    .colab-df-convert:hover {\n",
              "      background-color: #E2EBFA;\n",
              "      box-shadow: 0px 1px 2px rgba(60, 64, 67, 0.3), 0px 1px 3px 1px rgba(60, 64, 67, 0.15);\n",
              "      fill: #174EA6;\n",
              "    }\n",
              "\n",
              "    .colab-df-buttons div {\n",
              "      margin-bottom: 4px;\n",
              "    }\n",
              "\n",
              "    [theme=dark] .colab-df-convert {\n",
              "      background-color: #3B4455;\n",
              "      fill: #D2E3FC;\n",
              "    }\n",
              "\n",
              "    [theme=dark] .colab-df-convert:hover {\n",
              "      background-color: #434B5C;\n",
              "      box-shadow: 0px 1px 3px 1px rgba(0, 0, 0, 0.15);\n",
              "      filter: drop-shadow(0px 1px 2px rgba(0, 0, 0, 0.3));\n",
              "      fill: #FFFFFF;\n",
              "    }\n",
              "  </style>\n",
              "\n",
              "    <script>\n",
              "      const buttonEl =\n",
              "        document.querySelector('#df-fd1e7640-8ab4-48d0-b902-6ccf7662e6cd button.colab-df-convert');\n",
              "      buttonEl.style.display =\n",
              "        google.colab.kernel.accessAllowed ? 'block' : 'none';\n",
              "\n",
              "      async function convertToInteractive(key) {\n",
              "        const element = document.querySelector('#df-fd1e7640-8ab4-48d0-b902-6ccf7662e6cd');\n",
              "        const dataTable =\n",
              "          await google.colab.kernel.invokeFunction('convertToInteractive',\n",
              "                                                    [key], {});\n",
              "        if (!dataTable) return;\n",
              "\n",
              "        const docLinkHtml = 'Like what you see? Visit the ' +\n",
              "          '<a target=\"_blank\" href=https://colab.research.google.com/notebooks/data_table.ipynb>data table notebook</a>'\n",
              "          + ' to learn more about interactive tables.';\n",
              "        element.innerHTML = '';\n",
              "        dataTable['output_type'] = 'display_data';\n",
              "        await google.colab.output.renderOutput(dataTable, element);\n",
              "        const docLink = document.createElement('div');\n",
              "        docLink.innerHTML = docLinkHtml;\n",
              "        element.appendChild(docLink);\n",
              "      }\n",
              "    </script>\n",
              "  </div>\n",
              "\n",
              "\n",
              "<div id=\"df-c93ae271-2af6-4efe-94c7-855dc032ef49\">\n",
              "  <button class=\"colab-df-quickchart\" onclick=\"quickchart('df-c93ae271-2af6-4efe-94c7-855dc032ef49')\"\n",
              "            title=\"Suggest charts\"\n",
              "            style=\"display:none;\">\n",
              "\n",
              "<svg xmlns=\"http://www.w3.org/2000/svg\" height=\"24px\"viewBox=\"0 0 24 24\"\n",
              "     width=\"24px\">\n",
              "    <g>\n",
              "        <path d=\"M19 3H5c-1.1 0-2 .9-2 2v14c0 1.1.9 2 2 2h14c1.1 0 2-.9 2-2V5c0-1.1-.9-2-2-2zM9 17H7v-7h2v7zm4 0h-2V7h2v10zm4 0h-2v-4h2v4z\"/>\n",
              "    </g>\n",
              "</svg>\n",
              "  </button>\n",
              "\n",
              "<style>\n",
              "  .colab-df-quickchart {\n",
              "      --bg-color: #E8F0FE;\n",
              "      --fill-color: #1967D2;\n",
              "      --hover-bg-color: #E2EBFA;\n",
              "      --hover-fill-color: #174EA6;\n",
              "      --disabled-fill-color: #AAA;\n",
              "      --disabled-bg-color: #DDD;\n",
              "  }\n",
              "\n",
              "  [theme=dark] .colab-df-quickchart {\n",
              "      --bg-color: #3B4455;\n",
              "      --fill-color: #D2E3FC;\n",
              "      --hover-bg-color: #434B5C;\n",
              "      --hover-fill-color: #FFFFFF;\n",
              "      --disabled-bg-color: #3B4455;\n",
              "      --disabled-fill-color: #666;\n",
              "  }\n",
              "\n",
              "  .colab-df-quickchart {\n",
              "    background-color: var(--bg-color);\n",
              "    border: none;\n",
              "    border-radius: 50%;\n",
              "    cursor: pointer;\n",
              "    display: none;\n",
              "    fill: var(--fill-color);\n",
              "    height: 32px;\n",
              "    padding: 0;\n",
              "    width: 32px;\n",
              "  }\n",
              "\n",
              "  .colab-df-quickchart:hover {\n",
              "    background-color: var(--hover-bg-color);\n",
              "    box-shadow: 0 1px 2px rgba(60, 64, 67, 0.3), 0 1px 3px 1px rgba(60, 64, 67, 0.15);\n",
              "    fill: var(--button-hover-fill-color);\n",
              "  }\n",
              "\n",
              "  .colab-df-quickchart-complete:disabled,\n",
              "  .colab-df-quickchart-complete:disabled:hover {\n",
              "    background-color: var(--disabled-bg-color);\n",
              "    fill: var(--disabled-fill-color);\n",
              "    box-shadow: none;\n",
              "  }\n",
              "\n",
              "  .colab-df-spinner {\n",
              "    border: 2px solid var(--fill-color);\n",
              "    border-color: transparent;\n",
              "    border-bottom-color: var(--fill-color);\n",
              "    animation:\n",
              "      spin 1s steps(1) infinite;\n",
              "  }\n",
              "\n",
              "  @keyframes spin {\n",
              "    0% {\n",
              "      border-color: transparent;\n",
              "      border-bottom-color: var(--fill-color);\n",
              "      border-left-color: var(--fill-color);\n",
              "    }\n",
              "    20% {\n",
              "      border-color: transparent;\n",
              "      border-left-color: var(--fill-color);\n",
              "      border-top-color: var(--fill-color);\n",
              "    }\n",
              "    30% {\n",
              "      border-color: transparent;\n",
              "      border-left-color: var(--fill-color);\n",
              "      border-top-color: var(--fill-color);\n",
              "      border-right-color: var(--fill-color);\n",
              "    }\n",
              "    40% {\n",
              "      border-color: transparent;\n",
              "      border-right-color: var(--fill-color);\n",
              "      border-top-color: var(--fill-color);\n",
              "    }\n",
              "    60% {\n",
              "      border-color: transparent;\n",
              "      border-right-color: var(--fill-color);\n",
              "    }\n",
              "    80% {\n",
              "      border-color: transparent;\n",
              "      border-right-color: var(--fill-color);\n",
              "      border-bottom-color: var(--fill-color);\n",
              "    }\n",
              "    90% {\n",
              "      border-color: transparent;\n",
              "      border-bottom-color: var(--fill-color);\n",
              "    }\n",
              "  }\n",
              "</style>\n",
              "\n",
              "  <script>\n",
              "    async function quickchart(key) {\n",
              "      const quickchartButtonEl =\n",
              "        document.querySelector('#' + key + ' button');\n",
              "      quickchartButtonEl.disabled = true;  // To prevent multiple clicks.\n",
              "      quickchartButtonEl.classList.add('colab-df-spinner');\n",
              "      try {\n",
              "        const charts = await google.colab.kernel.invokeFunction(\n",
              "            'suggestCharts', [key], {});\n",
              "      } catch (error) {\n",
              "        console.error('Error during call to suggestCharts:', error);\n",
              "      }\n",
              "      quickchartButtonEl.classList.remove('colab-df-spinner');\n",
              "      quickchartButtonEl.classList.add('colab-df-quickchart-complete');\n",
              "    }\n",
              "    (() => {\n",
              "      let quickchartButtonEl =\n",
              "        document.querySelector('#df-c93ae271-2af6-4efe-94c7-855dc032ef49 button');\n",
              "      quickchartButtonEl.style.display =\n",
              "        google.colab.kernel.accessAllowed ? 'block' : 'none';\n",
              "    })();\n",
              "  </script>\n",
              "</div>\n",
              "    </div>\n",
              "  </div>\n"
            ]
          },
          "metadata": {},
          "execution_count": 47
        }
      ]
    },
    {
      "cell_type": "code",
      "source": [
        "pd.crosstab(df.language_preferred , df.converted).plot(kind = 'bar', stacked = True);"
      ],
      "metadata": {
        "colab": {
          "base_uri": "https://localhost:8080/",
          "height": 490
        },
        "id": "a7hDY7oFCAPr",
        "outputId": "74281adc-7433-4c6d-ea5f-6aa38ac2de39"
      },
      "id": "a7hDY7oFCAPr",
      "execution_count": null,
      "outputs": [
        {
          "output_type": "display_data",
          "data": {
            "text/plain": [
              "<Figure size 640x480 with 1 Axes>"
            ],
            "image/png": "[encoded data removed]"
          },
          "metadata": {}
        }
      ]
    },
    {
      "cell_type": "markdown",
      "source": [
        "\n",
        "*   From the plot, we can say that the more number of users who have preferred English have subscribed to the news portal.\n",
        "*   More number of users who have preferred French have not subscribed to the news portal."
      ],
      "metadata": {
        "id": "HARL3ay9Ckek"
      },
      "id": "HARL3ay9Ckek"
    },
    {
      "cell_type": "markdown",
      "metadata": {
        "id": "NbAr8cFW4VUC"
      },
      "source": [
        "### Step 1: Define the null and alternate hypotheses"
      ],
      "id": "NbAr8cFW4VUC"
    },
    {
      "cell_type": "markdown",
      "source": [
        "The Null and Alternate Hypothesis can be defined as:\n",
        "\n",
        "> $H_0$ : The users getting converted is independent of the language preferred.\n",
        "\n",
        "> $H_a$ : The users getting converted is not independent of the language preferred."
      ],
      "metadata": {
        "id": "N_XIkcQgDVB2"
      },
      "id": "N_XIkcQgDVB2"
    },
    {
      "cell_type": "markdown",
      "metadata": {
        "id": "WpQOZ1mj4MX0"
      },
      "source": [
        "### Step 2: Select Appropriate test"
      ],
      "id": "WpQOZ1mj4MX0"
    },
    {
      "cell_type": "markdown",
      "source": [
        "This case can be tested by using Chi Square test of independence as it concerns two categorical variables. The converted and the language_preferred columns of the dataset."
      ],
      "metadata": {
        "id": "BSRGDpJvD__E"
      },
      "id": "BSRGDpJvD__E"
    },
    {
      "cell_type": "markdown",
      "metadata": {
        "id": "Pk-4JaSk4e-E"
      },
      "source": [
        "### Step 3: Decide the significance level"
      ],
      "id": "Pk-4JaSk4e-E"
    },
    {
      "cell_type": "markdown",
      "source": [
        "From the problem statement, we can consider $α = 0.05 $"
      ],
      "metadata": {
        "id": "owWoRMh6Elx6"
      },
      "id": "owWoRMh6Elx6"
    },
    {
      "cell_type": "markdown",
      "metadata": {
        "id": "QLKefrN44izw"
      },
      "source": [
        "### Step 4: Collect and prepare data"
      ],
      "id": "QLKefrN44izw"
    },
    {
      "cell_type": "code",
      "source": [
        "contingency_table = pd.crosstab(df.converted, df.language_preferred)\n",
        "contingency_table"
      ],
      "metadata": {
        "colab": {
          "base_uri": "https://localhost:8080/",
          "height": 143
        },
        "id": "zbtsHxjXEq3A",
        "outputId": "90adecf6-53ef-4424-fe7a-9030a864afe9"
      },
      "id": "zbtsHxjXEq3A",
      "execution_count": null,
      "outputs": [
        {
          "output_type": "execute_result",
          "data": {
            "text/plain": [
              "language_preferred  English  French  Spanish\n",
              "converted                                   \n",
              "no                       11      19       16\n",
              "yes                      21      15       18"
            ],
            "text/html": [
              "\n",
              "  <div id=\"df-083dc165-d5eb-4773-91fb-948ab6be58eb\" class=\"colab-df-container\">\n",
              "    <div>\n",
              "<style scoped>\n",
              "    .dataframe tbody tr th:only-of-type {\n",
              "        vertical-align: middle;\n",
              "    }\n",
              "\n",
              "    .dataframe tbody tr th {\n",
              "        vertical-align: top;\n",
              "    }\n",
              "\n",
              "    .dataframe thead th {\n",
              "        text-align: right;\n",
              "    }\n",
              "</style>\n",
              "<table border=\"1\" class=\"dataframe\">\n",
              "  <thead>\n",
              "    <tr style=\"text-align: right;\">\n",
              "      <th>language_preferred</th>\n",
              "      <th>English</th>\n",
              "      <th>French</th>\n",
              "      <th>Spanish</th>\n",
              "    </tr>\n",
              "    <tr>\n",
              "      <th>converted</th>\n",
              "      <th></th>\n",
              "      <th></th>\n",
              "      <th></th>\n",
              "    </tr>\n",
              "  </thead>\n",
              "  <tbody>\n",
              "    <tr>\n",
              "      <th>no</th>\n",
              "      <td>11</td>\n",
              "      <td>19</td>\n",
              "      <td>16</td>\n",
              "    </tr>\n",
              "    <tr>\n",
              "      <th>yes</th>\n",
              "      <td>21</td>\n",
              "      <td>15</td>\n",
              "      <td>18</td>\n",
              "    </tr>\n",
              "  </tbody>\n",
              "</table>\n",
              "</div>\n",
              "    <div class=\"colab-df-buttons\">\n",
              "\n",
              "  <div class=\"colab-df-container\">\n",
              "    <button class=\"colab-df-convert\" onclick=\"convertToInteractive('df-083dc165-d5eb-4773-91fb-948ab6be58eb')\"\n",
              "            title=\"Convert this dataframe to an interactive table.\"\n",
              "            style=\"display:none;\">\n",
              "\n",
              "  <svg xmlns=\"http://www.w3.org/2000/svg\" height=\"24px\" viewBox=\"0 -960 960 960\">\n",
              "    <path d=\"M120-120v-720h720v720H120Zm60-500h600v-160H180v160Zm220 220h160v-160H400v160Zm0 220h160v-160H400v160ZM180-400h160v-160H180v160Zm440 0h160v-160H620v160ZM180-180h160v-160H180v160Zm440 0h160v-160H620v160Z\"/>\n",
              "  </svg>\n",
              "    </button>\n",
              "\n",
              "  <style>\n",
              "    .colab-df-container {\n",
              "      display:flex;\n",
              "      gap: 12px;\n",
              "    }\n",
              "\n",
              "    .colab-df-convert {\n",
              "      background-color: #E8F0FE;\n",
              "      border: none;\n",
              "      border-radius: 50%;\n",
              "      cursor: pointer;\n",
              "      display: none;\n",
              "      fill: #1967D2;\n",
              "      height: 32px;\n",
              "      padding: 0 0 0 0;\n",
              "      width: 32px;\n",
              "    }\n",
              "\n",
              "    .colab-df-convert:hover {\n",
              "      background-color: #E2EBFA;\n",
              "      box-shadow: 0px 1px 2px rgba(60, 64, 67, 0.3), 0px 1px 3px 1px rgba(60, 64, 67, 0.15);\n",
              "      fill: #174EA6;\n",
              "    }\n",
              "\n",
              "    .colab-df-buttons div {\n",
              "      margin-bottom: 4px;\n",
              "    }\n",
              "\n",
              "    [theme=dark] .colab-df-convert {\n",
              "      background-color: #3B4455;\n",
              "      fill: #D2E3FC;\n",
              "    }\n",
              "\n",
              "    [theme=dark] .colab-df-convert:hover {\n",
              "      background-color: #434B5C;\n",
              "      box-shadow: 0px 1px 3px 1px rgba(0, 0, 0, 0.15);\n",
              "      filter: drop-shadow(0px 1px 2px rgba(0, 0, 0, 0.3));\n",
              "      fill: #FFFFFF;\n",
              "    }\n",
              "  </style>\n",
              "\n",
              "    <script>\n",
              "      const buttonEl =\n",
              "        document.querySelector('#df-083dc165-d5eb-4773-91fb-948ab6be58eb button.colab-df-convert');\n",
              "      buttonEl.style.display =\n",
              "        google.colab.kernel.accessAllowed ? 'block' : 'none';\n",
              "\n",
              "      async function convertToInteractive(key) {\n",
              "        const element = document.querySelector('#df-083dc165-d5eb-4773-91fb-948ab6be58eb');\n",
              "        const dataTable =\n",
              "          await google.colab.kernel.invokeFunction('convertToInteractive',\n",
              "                                                    [key], {});\n",
              "        if (!dataTable) return;\n",
              "\n",
              "        const docLinkHtml = 'Like what you see? Visit the ' +\n",
              "          '<a target=\"_blank\" href=https://colab.research.google.com/notebooks/data_table.ipynb>data table notebook</a>'\n",
              "          + ' to learn more about interactive tables.';\n",
              "        element.innerHTML = '';\n",
              "        dataTable['output_type'] = 'display_data';\n",
              "        await google.colab.output.renderOutput(dataTable, element);\n",
              "        const docLink = document.createElement('div');\n",
              "        docLink.innerHTML = docLinkHtml;\n",
              "        element.appendChild(docLink);\n",
              "      }\n",
              "    </script>\n",
              "  </div>\n",
              "\n",
              "\n",
              "<div id=\"df-b6244cc9-bba2-4366-9363-781cda6814dd\">\n",
              "  <button class=\"colab-df-quickchart\" onclick=\"quickchart('df-b6244cc9-bba2-4366-9363-781cda6814dd')\"\n",
              "            title=\"Suggest charts\"\n",
              "            style=\"display:none;\">\n",
              "\n",
              "<svg xmlns=\"http://www.w3.org/2000/svg\" height=\"24px\"viewBox=\"0 0 24 24\"\n",
              "     width=\"24px\">\n",
              "    <g>\n",
              "        <path d=\"M19 3H5c-1.1 0-2 .9-2 2v14c0 1.1.9 2 2 2h14c1.1 0 2-.9 2-2V5c0-1.1-.9-2-2-2zM9 17H7v-7h2v7zm4 0h-2V7h2v10zm4 0h-2v-4h2v4z\"/>\n",
              "    </g>\n",
              "</svg>\n",
              "  </button>\n",
              "\n",
              "<style>\n",
              "  .colab-df-quickchart {\n",
              "      --bg-color: #E8F0FE;\n",
              "      --fill-color: #1967D2;\n",
              "      --hover-bg-color: #E2EBFA;\n",
              "      --hover-fill-color: #174EA6;\n",
              "      --disabled-fill-color: #AAA;\n",
              "      --disabled-bg-color: #DDD;\n",
              "  }\n",
              "\n",
              "  [theme=dark] .colab-df-quickchart {\n",
              "      --bg-color: #3B4455;\n",
              "      --fill-color: #D2E3FC;\n",
              "      --hover-bg-color: #434B5C;\n",
              "      --hover-fill-color: #FFFFFF;\n",
              "      --disabled-bg-color: #3B4455;\n",
              "      --disabled-fill-color: #666;\n",
              "  }\n",
              "\n",
              "  .colab-df-quickchart {\n",
              "    background-color: var(--bg-color);\n",
              "    border: none;\n",
              "    border-radius: 50%;\n",
              "    cursor: pointer;\n",
              "    display: none;\n",
              "    fill: var(--fill-color);\n",
              "    height: 32px;\n",
              "    padding: 0;\n",
              "    width: 32px;\n",
              "  }\n",
              "\n",
              "  .colab-df-quickchart:hover {\n",
              "    background-color: var(--hover-bg-color);\n",
              "    box-shadow: 0 1px 2px rgba(60, 64, 67, 0.3), 0 1px 3px 1px rgba(60, 64, 67, 0.15);\n",
              "    fill: var(--button-hover-fill-color);\n",
              "  }\n",
              "\n",
              "  .colab-df-quickchart-complete:disabled,\n",
              "  .colab-df-quickchart-complete:disabled:hover {\n",
              "    background-color: var(--disabled-bg-color);\n",
              "    fill: var(--disabled-fill-color);\n",
              "    box-shadow: none;\n",
              "  }\n",
              "\n",
              "  .colab-df-spinner {\n",
              "    border: 2px solid var(--fill-color);\n",
              "    border-color: transparent;\n",
              "    border-bottom-color: var(--fill-color);\n",
              "    animation:\n",
              "      spin 1s steps(1) infinite;\n",
              "  }\n",
              "\n",
              "  @keyframes spin {\n",
              "    0% {\n",
              "      border-color: transparent;\n",
              "      border-bottom-color: var(--fill-color);\n",
              "      border-left-color: var(--fill-color);\n",
              "    }\n",
              "    20% {\n",
              "      border-color: transparent;\n",
              "      border-left-color: var(--fill-color);\n",
              "      border-top-color: var(--fill-color);\n",
              "    }\n",
              "    30% {\n",
              "      border-color: transparent;\n",
              "      border-left-color: var(--fill-color);\n",
              "      border-top-color: var(--fill-color);\n",
              "      border-right-color: var(--fill-color);\n",
              "    }\n",
              "    40% {\n",
              "      border-color: transparent;\n",
              "      border-right-color: var(--fill-color);\n",
              "      border-top-color: var(--fill-color);\n",
              "    }\n",
              "    60% {\n",
              "      border-color: transparent;\n",
              "      border-right-color: var(--fill-color);\n",
              "    }\n",
              "    80% {\n",
              "      border-color: transparent;\n",
              "      border-right-color: var(--fill-color);\n",
              "      border-bottom-color: var(--fill-color);\n",
              "    }\n",
              "    90% {\n",
              "      border-color: transparent;\n",
              "      border-bottom-color: var(--fill-color);\n",
              "    }\n",
              "  }\n",
              "</style>\n",
              "\n",
              "  <script>\n",
              "    async function quickchart(key) {\n",
              "      const quickchartButtonEl =\n",
              "        document.querySelector('#' + key + ' button');\n",
              "      quickchartButtonEl.disabled = true;  // To prevent multiple clicks.\n",
              "      quickchartButtonEl.classList.add('colab-df-spinner');\n",
              "      try {\n",
              "        const charts = await google.colab.kernel.invokeFunction(\n",
              "            'suggestCharts', [key], {});\n",
              "      } catch (error) {\n",
              "        console.error('Error during call to suggestCharts:', error);\n",
              "      }\n",
              "      quickchartButtonEl.classList.remove('colab-df-spinner');\n",
              "      quickchartButtonEl.classList.add('colab-df-quickchart-complete');\n",
              "    }\n",
              "    (() => {\n",
              "      let quickchartButtonEl =\n",
              "        document.querySelector('#df-b6244cc9-bba2-4366-9363-781cda6814dd button');\n",
              "      quickchartButtonEl.style.display =\n",
              "        google.colab.kernel.accessAllowed ? 'block' : 'none';\n",
              "    })();\n",
              "  </script>\n",
              "</div>\n",
              "    </div>\n",
              "  </div>\n"
            ]
          },
          "metadata": {},
          "execution_count": 49
        }
      ]
    },
    {
      "cell_type": "markdown",
      "metadata": {
        "id": "2rdmEOuN4m_e"
      },
      "source": [
        "### Step 5: Calculate the p-value"
      ],
      "id": "2rdmEOuN4m_e"
    },
    {
      "cell_type": "code",
      "source": [
        "chi,pval,dof,expected_freq = stats.chi2_contingency(contingency_table)\n",
        "print(\"The value of p is\",pval)"
      ],
      "metadata": {
        "colab": {
          "base_uri": "https://localhost:8080/"
        },
        "id": "4qUvRot5FASB",
        "outputId": "c3ba3e09-c8b2-4871-c8e6-1a1c57d2611d"
      },
      "id": "4qUvRot5FASB",
      "execution_count": null,
      "outputs": [
        {
          "output_type": "stream",
          "name": "stdout",
          "text": [
            "The value of p is 0.21298887487543447\n"
          ]
        }
      ]
    },
    {
      "cell_type": "markdown",
      "metadata": {
        "id": "GdAHc0sg4q-L"
      },
      "source": [
        "### Step 6: Compare the p-value with $\\alpha$"
      ],
      "id": "GdAHc0sg4q-L"
    },
    {
      "cell_type": "code",
      "source": [
        "if pval < 0.05:\n",
        "  print(\"There is enough statistical evidence to reject the null hypothesis since\",pval,\"is less than 0.05\")\n",
        "else:\n",
        "  print(\"There is not enough statistical evidence to reject the null hypothesis since\",pval,\"is greater than 0.05\")"
      ],
      "metadata": {
        "colab": {
          "base_uri": "https://localhost:8080/"
        },
        "id": "CLss4UypFkBj",
        "outputId": "b4e44653-f69e-494b-adb2-c1a8026aa8bf"
      },
      "id": "CLss4UypFkBj",
      "execution_count": null,
      "outputs": [
        {
          "output_type": "stream",
          "name": "stdout",
          "text": [
            "There is not enough statistical evidence to reject the null hypothesis since 0.21298887487543447 is greater than 0.05\n"
          ]
        }
      ]
    },
    {
      "cell_type": "markdown",
      "metadata": {
        "id": "pXZqaYw04u-e"
      },
      "source": [
        "### Step 7:  Draw inference"
      ],
      "id": "pXZqaYw04u-e"
    },
    {
      "cell_type": "markdown",
      "source": [
        "Since the p-value is greater than the 5% significance level, there is not enough statistical evidence to reject the null hypothesis. Hence, the users getting converted and the language preferred are independent of each other."
      ],
      "metadata": {
        "id": "Jm9cVRMYF19w"
      },
      "id": "Jm9cVRMYF19w"
    },
    {
      "cell_type": "markdown",
      "metadata": {
        "id": "8d585a90"
      },
      "source": [
        "## 4. Is the time spent on the new page same for the different language users?"
      ],
      "id": "8d585a90"
    },
    {
      "cell_type": "markdown",
      "metadata": {
        "id": "2XkfsCUS4Yjg"
      },
      "source": [
        "### Perform Visual Analysis"
      ],
      "id": "2XkfsCUS4Yjg"
    },
    {
      "cell_type": "code",
      "source": [
        "sns.boxplot(data = df_new_page , x = 'language_preferred' , y = 'time_spent_on_the_page');"
      ],
      "metadata": {
        "colab": {
          "base_uri": "https://localhost:8080/",
          "height": 450
        },
        "id": "DkymcQC0NyNg",
        "outputId": "49b14ab6-e553-4cf1-f14a-92fb6cf6a57b"
      },
      "id": "DkymcQC0NyNg",
      "execution_count": null,
      "outputs": [
        {
          "output_type": "display_data",
          "data": {
            "text/plain": [
              "<Figure size 640x480 with 1 Axes>"
            ],
            "image/png": "[encoded data removed]"
          },
          "metadata": {}
        }
      ]
    },
    {
      "cell_type": "code",
      "source": [
        "round(df_new_page.groupby(['language_preferred'])['time_spent_on_the_page'].mean(),2)"
      ],
      "metadata": {
        "colab": {
          "base_uri": "https://localhost:8080/"
        },
        "id": "ZpKvY4xUPuMP",
        "outputId": "6062f88e-7e68-4c3b-948b-44e9e4dc2127"
      },
      "id": "ZpKvY4xUPuMP",
      "execution_count": null,
      "outputs": [
        {
          "output_type": "execute_result",
          "data": {
            "text/plain": [
              "language_preferred\n",
              "English    6.66\n",
              "French     6.20\n",
              "Spanish    5.84\n",
              "Name: time_spent_on_the_page, dtype: float64"
            ]
          },
          "metadata": {},
          "execution_count": 53
        }
      ]
    },
    {
      "cell_type": "markdown",
      "source": [
        "\n",
        "*   From the above plot, the median of the time spent on the new page in French is comparatively less than the time spent on the new page in other two languages.\n",
        "*   From the sample dataset we see that the mean time spent on the new page with preferred language Spanish is less than the time spent on the new page in other two languages."
      ],
      "metadata": {
        "id": "ueHDHWBFOM3X"
      },
      "id": "ueHDHWBFOM3X"
    },
    {
      "cell_type": "markdown",
      "metadata": {
        "id": "aG2cick94USF"
      },
      "source": [
        "### Step 1: Define the null and alternate hypotheses"
      ],
      "id": "aG2cick94USF"
    },
    {
      "cell_type": "markdown",
      "source": [
        "The Null and Alternate Hypothesis can be defined as:\n",
        "\n",
        "> $H_0$ : The average time spent on the new landing page is equal for any preferred language.\n",
        "\n",
        "> $H_a$ : The average time spent on the new landing page is different for atleast one preferred language."
      ],
      "metadata": {
        "id": "mDeWIPSEQwuU"
      },
      "id": "mDeWIPSEQwuU"
    },
    {
      "cell_type": "markdown",
      "metadata": {
        "id": "MHhhdyYE4P19"
      },
      "source": [
        "### Step 2: Select Appropriate test"
      ],
      "id": "MHhhdyYE4P19"
    },
    {
      "cell_type": "markdown",
      "source": [
        "In this case, we are comparing three populations means. Hence, one-way ANOVA test is appropriate for this case."
      ],
      "metadata": {
        "id": "6QVwoial4w3j"
      },
      "id": "6QVwoial4w3j"
    },
    {
      "cell_type": "markdown",
      "source": [
        "# **Shapiro-Wilk's Test:**\n",
        "\n",
        "The Null and Alternate Hypothesis can be defined as:\n",
        "\n",
        "> $H_0$ : The average time spent on the new landing page follows a normal distribution\n",
        "\n",
        "> $H_a$ : The average time spent on the new landing page does not follow a normal distribution"
      ],
      "metadata": {
        "id": "afBk4PddP6EK"
      },
      "id": "afBk4PddP6EK"
    },
    {
      "cell_type": "code",
      "source": [
        "test_stat, pval = stats.shapiro(df_new_page['time_spent_on_the_page'])\n",
        "print('The value of p is',pval)"
      ],
      "metadata": {
        "colab": {
          "base_uri": "https://localhost:8080/"
        },
        "id": "QKr3sPDUQhMp",
        "outputId": "6453b85f-11b2-49fb-958f-139d49bc81cb"
      },
      "id": "QKr3sPDUQhMp",
      "execution_count": null,
      "outputs": [
        {
          "output_type": "stream",
          "name": "stdout",
          "text": [
            "The value of p is 0.8040016293525696\n"
          ]
        }
      ]
    },
    {
      "cell_type": "markdown",
      "source": [
        "Since the p-value is greater than 5% significance, there is not enough statistical evidence to reject the null hypothesis. Hence we can say it is normally distributed."
      ],
      "metadata": {
        "id": "pHXhB2ICQ81c"
      },
      "id": "pHXhB2ICQ81c"
    },
    {
      "cell_type": "markdown",
      "source": [
        "# **Levene's Test:**\n",
        "\n",
        "The Null and Alternate Hypothesis can be defined as:\n",
        "\n",
        "> $H_0$ : The population of all groups have equal variance.\n",
        "\n",
        "> $H_a$ : Atleast one of the population variance is not same."
      ],
      "metadata": {
        "id": "_cCl0umWRnRr"
      },
      "id": "_cCl0umWRnRr"
    },
    {
      "cell_type": "code",
      "source": [
        "test_stat, pval = stats.levene(df_new_page[df_new_page['language_preferred'] == 'English']['time_spent_on_the_page'],\n",
        "                               df_new_page[df_new_page['language_preferred'] == 'Spanish']['time_spent_on_the_page'],\n",
        "                               df_new_page[df_new_page['language_preferred'] == 'French']['time_spent_on_the_page'])\n",
        "print(\"The value of p is\",pval)"
      ],
      "metadata": {
        "colab": {
          "base_uri": "https://localhost:8080/"
        },
        "id": "IDTZKx6ZSEEl",
        "outputId": "33268218-c8bd-44ea-c5e0-df218f402fac"
      },
      "id": "IDTZKx6ZSEEl",
      "execution_count": null,
      "outputs": [
        {
          "output_type": "stream",
          "name": "stdout",
          "text": [
            "The value of p is 0.46711357711340173\n"
          ]
        }
      ]
    },
    {
      "cell_type": "markdown",
      "source": [
        "Since the p-value is greater than 5% significance, there is not enough statistical evidence to reject the null hypothesis. Hence we can say the population of all groups have equal variance."
      ],
      "metadata": {
        "id": "CngDcPOATZ2h"
      },
      "id": "CngDcPOATZ2h"
    },
    {
      "cell_type": "markdown",
      "metadata": {
        "id": "ZR307Kqi4fxh"
      },
      "source": [
        "### Step 3: Decide the significance level"
      ],
      "id": "ZR307Kqi4fxh"
    },
    {
      "cell_type": "markdown",
      "source": [
        "From the problem statement, we can consider $α = 0.05 $"
      ],
      "metadata": {
        "id": "e4M5aCRiR4DU"
      },
      "id": "e4M5aCRiR4DU"
    },
    {
      "cell_type": "markdown",
      "metadata": {
        "id": "yo_Avy_o4jSz"
      },
      "source": [
        "### Step 4: Collect and prepare data"
      ],
      "id": "yo_Avy_o4jSz"
    },
    {
      "cell_type": "code",
      "source": [
        "df_new_page_english = df_new_page.loc[df_new_page['language_preferred'] == 'English']\n",
        "df_new_page_french = df_new_page.loc[df_new_page['language_preferred'] == 'French']\n",
        "df_new_page_spanish = df_new_page.loc[df_new_page['language_preferred'] == 'Spanish']"
      ],
      "metadata": {
        "id": "ou5uSsR9R8wv"
      },
      "id": "ou5uSsR9R8wv",
      "execution_count": null,
      "outputs": []
    },
    {
      "cell_type": "markdown",
      "metadata": {
        "id": "vZhhMNe44nvC"
      },
      "source": [
        "### Step 5: Calculate the p-value"
      ],
      "id": "vZhhMNe44nvC"
    },
    {
      "cell_type": "code",
      "source": [
        "test_stat,pval = stats.f_oneway(df_new_page_english['time_spent_on_the_page'],df_new_page_french['time_spent_on_the_page'],df_new_page_spanish['time_spent_on_the_page'])\n",
        "print('The value of p is',pval)"
      ],
      "metadata": {
        "colab": {
          "base_uri": "https://localhost:8080/"
        },
        "id": "qa_tYIB3ajWs",
        "outputId": "1e1171b2-0868-4020-c4bb-8886e887ae3c"
      },
      "id": "qa_tYIB3ajWs",
      "execution_count": null,
      "outputs": [
        {
          "output_type": "stream",
          "name": "stdout",
          "text": [
            "The value of p is 0.43204138694325955\n"
          ]
        }
      ]
    },
    {
      "cell_type": "markdown",
      "metadata": {
        "id": "ShRZR_sk4rk3"
      },
      "source": [
        "### Step 6: Compare the p-value with $\\alpha$"
      ],
      "id": "ShRZR_sk4rk3"
    },
    {
      "cell_type": "code",
      "source": [
        "if pval < 0.05:\n",
        "  print(\"There is enough statistical evidence to reject the null hypothesis since\",pval,\"is less than 0.05\")\n",
        "else:\n",
        "  print(\"There is not enough statistical evidence to reject the null hypothesis since\",pval,\"is greater than 0.05\")"
      ],
      "metadata": {
        "colab": {
          "base_uri": "https://localhost:8080/"
        },
        "id": "pppjoQZPa7wZ",
        "outputId": "1cdd3a7e-4285-4b19-eba6-f8eb51055ee4"
      },
      "id": "pppjoQZPa7wZ",
      "execution_count": null,
      "outputs": [
        {
          "output_type": "stream",
          "name": "stdout",
          "text": [
            "There is not enough statistical evidence to reject the null hypothesis since 0.43204138694325955 is greater than 0.05\n"
          ]
        }
      ]
    },
    {
      "cell_type": "markdown",
      "metadata": {
        "id": "VJBLa8B34vmy"
      },
      "source": [
        "### Step 7:  Draw inference"
      ],
      "id": "VJBLa8B34vmy"
    },
    {
      "cell_type": "markdown",
      "source": [
        "Since the p-value is greater than the 5% significance level, there is not enough statistical evidence to reject the null hypothesis. Hence the average time spent on the new landing page is the same irrespective of the language preferred."
      ],
      "metadata": {
        "id": "guvx8F7DbAzL"
      },
      "id": "guvx8F7DbAzL"
    },
    {
      "cell_type": "markdown",
      "metadata": {
        "id": "3acbc947"
      },
      "source": [
        "## Conclusion and Business Recommendations"
      ],
      "id": "3acbc947"
    },
    {
      "cell_type": "markdown",
      "metadata": {
        "id": "21fb1063"
      },
      "source": [
        "**Conclusions**:\n",
        "\n",
        "After doing some statistical tests using the sample dataset, we can conclude by saying that:\n",
        "\n",
        "1. The average time spent on the new landing page is greater than the average time spent on the existing landing page.\n",
        "2. The users who are using the new landing page subscribe to the News portal more than the users who used the existing landing page.\n",
        "3. The language preferred and the users subscribing to the portal are not related.\n",
        "4. The average time spent on the new landing page does not affect which language the user has preferred.\n",
        "\n",
        "**Recommendations:**\n",
        "\n",
        "1. As the users spend more time on viewing the new page, the content that is put on the new page is good.\n",
        "2. Because the content attracts users to subscribe to the news portal, we can make this page the permanent landing page for the news portal.\n",
        "3. We can monitor the performance of the new landing page for 2-3 weeks to ensure consistency of the subscription rate in the new landing page.\n",
        "4. Even though the language preferred is independent of the users subscribing to the news portal, I would suggest keeping the different languages(English, Spanish, French) used for the landing page. This makes the news portal more user-friendly.\n",
        "5. We can do more statistical analysis and see if the time spent on the page and users subscribing to the news portal are related."
      ],
      "id": "21fb1063"
    },
    {
      "cell_type": "code",
      "source": [
        "!jupyter nbconvert --to html \"/content/drive/My Drive/Colab Notebooks/ENews_Express_Learner_Notebook%5BFull_Code_Version%5D.ipynb\""
      ],
      "metadata": {
        "colab": {
          "base_uri": "https://localhost:8080/"
        },
        "id": "LeKeS90gJV09",
        "outputId": "54737441-9dfb-4d77-abdf-6a4c3610e040"
      },
      "id": "LeKeS90gJV09",
      "execution_count": null,
      "outputs": [
        {
          "output_type": "stream",
          "name": "stdout",
          "text": [
            "[NbConvertApp] Converting notebook /content/drive/My Drive/Colab Notebooks/ENews_Express_Learner_Notebook%5BFull_Code_Version%5D.ipynb to html\n",
            "[NbConvertApp] Writing 1054678 bytes to /content/drive/My Drive/Colab Notebooks/ENews_Express_Learner_Notebook%5BFull_Code_Version%5D.html\n"
          ]
        }
      ]
    },
    {
      "cell_type": "markdown",
      "source": [
        "___"
      ],
      "metadata": {
        "id": "U0dAd4i0iCHo"
      },
      "id": "U0dAd4i0iCHo"
    },
    {
      "cell_type": "markdown",
      "source": [],
      "metadata": {
        "id": "yZhicA5J03mi"
      },
      "id": "yZhicA5J03mi"
    }
  ]
}